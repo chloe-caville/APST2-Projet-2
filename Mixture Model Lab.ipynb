{
 "cells": [
  {
   "cell_type": "markdown",
   "id": "bf4f9878",
   "metadata": {},
   "source": [
    "<img src=\"Mars.jpg\" alt=\"The first colored picture sent by Perseverance\" width=\"600\"/>"
   ]
  },
  {
   "cell_type": "markdown",
   "id": "5c0f7a6a",
   "metadata": {},
   "source": [
    "## Familiarize yourself with Gaussian Mixtures\n",
    "\n",
    "In this lab we will try to feel comfortable with the Expectation Maximization algorithm and its use to fit Gaussian mixture models. To this aim we will start by writing our own EM algorithm for a mixture of univariate Gaussian distributions. We will then complexify our setting by dealing with the multivariate case. We will finally have fun with an application to image segmentation on the first colored picture of Mars sent recently by *Perseverance*.\n",
    "\n",
    "*Remark: Although we will use the GaussianMixture function of Python for this lab, the current version is not as powerfull as (many) R alternative such as packages *mclust* or *Rmixmod*. For instance, such R packages allows for much more covariance structure configurations than the GaussianMixture. If you want to dive seriously into the Gaussian mixture model worlds, these software are top notch!*"
   ]
  },
  {
   "cell_type": "markdown",
   "id": "9c5f7613",
   "metadata": {},
   "source": [
    "### Univariate case\n",
    "\n",
    "We consider the following mixture model\n",
    "$$f(y) = \\sum_{k=1}^K \\tau_k \\varphi(y; \\mu_k, \\sigma^2_k), \\qquad k \\geq 1,$$\n",
    "where $\\varphi(\\cdot, \\mu, \\sigma^2)$ denotes the p.d.f. of a normal distribution with mean $\\mu$ and variance $\\sigma^2$ and $\\tau_k$ are the cluster membership probabilities, i.e., $\\tau_k \\geq 0$ and $\\sum_{k} \\tau_k = 1$."
   ]
  },
  {
   "cell_type": "code",
   "execution_count": 145,
   "id": "5abff87a",
   "metadata": {},
   "outputs": [],
   "source": [
    "import numpy as np\n",
    "import pandas as pd\n",
    "import os\n",
    "import matplotlib.pyplot as plt"
   ]
  },
  {
   "cell_type": "code",
   "execution_count": 146,
   "id": "12d304f2",
   "metadata": {},
   "outputs": [
    {
     "data": {
      "text/plain": [
       "array(['Code de la région', 'Libellé de la région', 'Etat saisie',\n",
       "       'Inscrits', 'Abstentions', '% Abs/Ins', 'Votants', '% Vot/Ins',\n",
       "       'Blancs', '% Blancs/Ins', '% Blancs/Vot', 'Nuls', '% Nuls/Ins',\n",
       "       '% Nuls/Vot', 'Exprimés', '% Exp/Ins', '% Exp/Vot', 'Sexe 0',\n",
       "       'Nom 0', 'Prénom 0', 'Voix 0', '% Voix/Ins 0', '% Voix/Exp 0',\n",
       "       'Sexe 1', 'Nom 1', 'Prénom 1', 'Voix 1', '% Voix/Ins 1',\n",
       "       '% Voix/Exp 1', 'Sexe 2', 'Nom 2', 'Prénom 2', 'Voix 2',\n",
       "       '% Voix/Ins 2', '% Voix/Exp 2', 'Sexe 3', 'Nom 3', 'Prénom 3',\n",
       "       'Voix 3', '% Voix/Ins 3', '% Voix/Exp 3', 'Sexe 4', 'Nom 4',\n",
       "       'Prénom 4', 'Voix 4', '% Voix/Ins 4', '% Voix/Exp 4', 'Sexe 5',\n",
       "       'Nom 5', 'Prénom 5', 'Voix 5', '% Voix/Ins 5', '% Voix/Exp 5',\n",
       "       'Sexe 6', 'Nom 6', 'Prénom 6', 'Voix 6', '% Voix/Ins 6',\n",
       "       '% Voix/Exp 6', 'Sexe 7', 'Nom 7', 'Prénom 7', 'Voix 7',\n",
       "       '% Voix/Ins 7', '% Voix/Exp 7', 'Sexe 8', 'Nom 8', 'Prénom 8',\n",
       "       'Voix 8', '% Voix/Ins 8', '% Voix/Exp 8', 'Sexe 9', 'Nom 9',\n",
       "       'Prénom 9', 'Voix 9', '% Voix/Ins 9', '% Voix/Exp 9', 'Sexe 10',\n",
       "       'Nom 10', 'Prénom 10', 'Voix 10', '% Voix/Ins 10', '% Voix/Exp 10',\n",
       "       'Sexe 11', 'Nom 11', 'Prénom 11', 'Voix 11', '% Voix/Ins 11',\n",
       "       '% Voix/Exp 11'], dtype='<U20')"
      ]
     },
     "execution_count": 146,
     "metadata": {},
     "output_type": "execute_result"
    }
   ],
   "source": [
    "col_commun=['Code de la région','Libellé de la région','Etat saisie','Inscrits',\n",
    "     'Abstentions','% Abs/Ins','Votants','% Vot/Ins','Blancs','% Blancs/Ins',\n",
    "     '% Blancs/Vot','Nuls','% Nuls/Ins','% Nuls/Vot','Exprimés','% Exp/Ins',\n",
    "     '% Exp/Vot']\n",
    "col_spec=['Sexe','Nom','Prénom','Voix','% Voix/Ins','% Voix/Exp']\n",
    "\n",
    "nom_cols = []\n",
    "for i in range(89):\n",
    "    if i < len(col_commun):\n",
    "        nom = col_commun[i]\n",
    "    else:\n",
    "        j = (i-len(col_commun)) % len(col_spec)\n",
    "        k = (i-len(col_commun)) // len(col_spec)\n",
    "        nom = col_spec[j] + \" \" + str(k)\n",
    "    nom_cols.append(nom)\n",
    "np.array(nom_cols)"
   ]
  },
  {
   "cell_type": "code",
   "execution_count": 153,
   "id": "787fa935",
   "metadata": {},
   "outputs": [],
   "source": [
    "#path = \"resultats-par-niveau-reg-t1-france-entiere.xlsx\"\n",
    "#pd.read_csv(path, sep=\";\", encoding=\"latin\")\n",
    "\n",
    "url = \"https://www.data.gouv.fr/fr/datasets/r/cbf026c5-e0bf-4ff8-b1cd-eb994cd26290\"\n",
    "\n",
    "data = pd.read_csv(url, sep=\";\",encoding=\"latin\", header=0, names=nom_cols)\n",
    "data2 = data[['% Abs/Ins', '% Vot/Ins',\n",
    "       '% Blancs/Ins', '% Blancs/Vot', '% Nuls/Ins',\n",
    "       '% Nuls/Vot', '% Exp/Ins', '% Exp/Vot', '% Voix/Ins 0', '% Voix/Exp 0',\n",
    "       '% Voix/Ins 1', '% Voix/Exp 1',\n",
    "       '% Voix/Ins 2', '% Voix/Exp 2',\n",
    "       '% Voix/Ins 3', '% Voix/Exp 3',\n",
    "       '% Voix/Ins 4', '% Voix/Exp 4', \n",
    "       '% Voix/Ins 5', '% Voix/Exp 5',\n",
    "       '% Voix/Ins 6', '% Voix/Exp 6',\n",
    "       '% Voix/Ins 7', '% Voix/Exp 7', \n",
    "       '% Voix/Ins 8', '% Voix/Exp 8', \n",
    "       '% Voix/Ins 9', '% Voix/Exp 9', \n",
    "       '% Voix/Ins 10', '% Voix/Exp 10',\n",
    "       '% Voix/Ins 11', '% Voix/Exp 11']].stack().str.replace(',','.').unstack()"
   ]
  },
  {
   "cell_type": "code",
   "execution_count": 154,
   "id": "e462390a",
   "metadata": {},
   "outputs": [
    {
     "data": {
      "text/html": [
       "<div>\n",
       "<style scoped>\n",
       "    .dataframe tbody tr th:only-of-type {\n",
       "        vertical-align: middle;\n",
       "    }\n",
       "\n",
       "    .dataframe tbody tr th {\n",
       "        vertical-align: top;\n",
       "    }\n",
       "\n",
       "    .dataframe thead th {\n",
       "        text-align: right;\n",
       "    }\n",
       "</style>\n",
       "<table border=\"1\" class=\"dataframe\">\n",
       "  <thead>\n",
       "    <tr style=\"text-align: right;\">\n",
       "      <th></th>\n",
       "      <th>% Abs/Ins</th>\n",
       "      <th>% Vot/Ins</th>\n",
       "      <th>% Blancs/Ins</th>\n",
       "      <th>% Blancs/Vot</th>\n",
       "      <th>% Nuls/Ins</th>\n",
       "      <th>% Nuls/Vot</th>\n",
       "      <th>% Exp/Ins</th>\n",
       "      <th>% Exp/Vot</th>\n",
       "      <th>% Voix/Ins 0</th>\n",
       "      <th>% Voix/Exp 0</th>\n",
       "      <th>...</th>\n",
       "      <th>% Voix/Ins 7</th>\n",
       "      <th>% Voix/Exp 7</th>\n",
       "      <th>% Voix/Ins 8</th>\n",
       "      <th>% Voix/Exp 8</th>\n",
       "      <th>% Voix/Ins 9</th>\n",
       "      <th>% Voix/Exp 9</th>\n",
       "      <th>% Voix/Ins 10</th>\n",
       "      <th>% Voix/Exp 10</th>\n",
       "      <th>% Voix/Ins 11</th>\n",
       "      <th>% Voix/Exp 11</th>\n",
       "    </tr>\n",
       "  </thead>\n",
       "  <tbody>\n",
       "    <tr>\n",
       "      <th>0</th>\n",
       "      <td>26.10</td>\n",
       "      <td>73.90</td>\n",
       "      <td>1.09</td>\n",
       "      <td>1.48</td>\n",
       "      <td>0.48</td>\n",
       "      <td>0.65</td>\n",
       "      <td>72.32</td>\n",
       "      <td>97.87</td>\n",
       "      <td>0.48</td>\n",
       "      <td>0.67</td>\n",
       "      <td>...</td>\n",
       "      <td>1.04</td>\n",
       "      <td>1.43</td>\n",
       "      <td>2.90</td>\n",
       "      <td>4.01</td>\n",
       "      <td>3.13</td>\n",
       "      <td>4.33</td>\n",
       "      <td>0.58</td>\n",
       "      <td>0.80</td>\n",
       "      <td>1.94</td>\n",
       "      <td>2.68</td>\n",
       "    </tr>\n",
       "    <tr>\n",
       "      <th>1</th>\n",
       "      <td>21.57</td>\n",
       "      <td>78.43</td>\n",
       "      <td>1.20</td>\n",
       "      <td>1.53</td>\n",
       "      <td>0.61</td>\n",
       "      <td>0.77</td>\n",
       "      <td>76.63</td>\n",
       "      <td>97.70</td>\n",
       "      <td>0.41</td>\n",
       "      <td>0.54</td>\n",
       "      <td>...</td>\n",
       "      <td>1.73</td>\n",
       "      <td>2.26</td>\n",
       "      <td>3.40</td>\n",
       "      <td>4.44</td>\n",
       "      <td>3.52</td>\n",
       "      <td>4.60</td>\n",
       "      <td>0.73</td>\n",
       "      <td>0.95</td>\n",
       "      <td>1.52</td>\n",
       "      <td>1.98</td>\n",
       "    </tr>\n",
       "    <tr>\n",
       "      <th>2</th>\n",
       "      <td>22.10</td>\n",
       "      <td>77.90</td>\n",
       "      <td>1.26</td>\n",
       "      <td>1.62</td>\n",
       "      <td>0.46</td>\n",
       "      <td>0.59</td>\n",
       "      <td>76.18</td>\n",
       "      <td>97.79</td>\n",
       "      <td>0.42</td>\n",
       "      <td>0.55</td>\n",
       "      <td>...</td>\n",
       "      <td>1.40</td>\n",
       "      <td>1.83</td>\n",
       "      <td>4.04</td>\n",
       "      <td>5.31</td>\n",
       "      <td>3.92</td>\n",
       "      <td>5.15</td>\n",
       "      <td>0.55</td>\n",
       "      <td>0.72</td>\n",
       "      <td>1.77</td>\n",
       "      <td>2.33</td>\n",
       "    </tr>\n",
       "    <tr>\n",
       "      <th>3</th>\n",
       "      <td>22.92</td>\n",
       "      <td>77.08</td>\n",
       "      <td>1.32</td>\n",
       "      <td>1.72</td>\n",
       "      <td>0.58</td>\n",
       "      <td>0.76</td>\n",
       "      <td>75.17</td>\n",
       "      <td>97.52</td>\n",
       "      <td>0.53</td>\n",
       "      <td>0.71</td>\n",
       "      <td>...</td>\n",
       "      <td>1.33</td>\n",
       "      <td>1.77</td>\n",
       "      <td>3.02</td>\n",
       "      <td>4.02</td>\n",
       "      <td>3.85</td>\n",
       "      <td>5.12</td>\n",
       "      <td>0.64</td>\n",
       "      <td>0.85</td>\n",
       "      <td>1.94</td>\n",
       "      <td>2.58</td>\n",
       "    </tr>\n",
       "    <tr>\n",
       "      <th>4</th>\n",
       "      <td>21.21</td>\n",
       "      <td>78.79</td>\n",
       "      <td>1.24</td>\n",
       "      <td>1.58</td>\n",
       "      <td>0.52</td>\n",
       "      <td>0.66</td>\n",
       "      <td>77.03</td>\n",
       "      <td>97.76</td>\n",
       "      <td>0.51</td>\n",
       "      <td>0.66</td>\n",
       "      <td>...</td>\n",
       "      <td>1.70</td>\n",
       "      <td>2.21</td>\n",
       "      <td>4.77</td>\n",
       "      <td>6.19</td>\n",
       "      <td>3.62</td>\n",
       "      <td>4.70</td>\n",
       "      <td>0.78</td>\n",
       "      <td>1.01</td>\n",
       "      <td>1.37</td>\n",
       "      <td>1.78</td>\n",
       "    </tr>\n",
       "    <tr>\n",
       "      <th>5</th>\n",
       "      <td>25.01</td>\n",
       "      <td>74.99</td>\n",
       "      <td>1.26</td>\n",
       "      <td>1.69</td>\n",
       "      <td>0.51</td>\n",
       "      <td>0.68</td>\n",
       "      <td>73.22</td>\n",
       "      <td>97.64</td>\n",
       "      <td>0.50</td>\n",
       "      <td>0.69</td>\n",
       "      <td>...</td>\n",
       "      <td>1.26</td>\n",
       "      <td>1.72</td>\n",
       "      <td>2.96</td>\n",
       "      <td>4.04</td>\n",
       "      <td>3.90</td>\n",
       "      <td>5.33</td>\n",
       "      <td>0.61</td>\n",
       "      <td>0.83</td>\n",
       "      <td>1.73</td>\n",
       "      <td>2.36</td>\n",
       "    </tr>\n",
       "    <tr>\n",
       "      <th>6</th>\n",
       "      <td>23.96</td>\n",
       "      <td>76.04</td>\n",
       "      <td>1.04</td>\n",
       "      <td>1.37</td>\n",
       "      <td>0.38</td>\n",
       "      <td>0.50</td>\n",
       "      <td>74.62</td>\n",
       "      <td>98.13</td>\n",
       "      <td>0.30</td>\n",
       "      <td>0.40</td>\n",
       "      <td>...</td>\n",
       "      <td>1.07</td>\n",
       "      <td>1.43</td>\n",
       "      <td>4.03</td>\n",
       "      <td>5.40</td>\n",
       "      <td>4.62</td>\n",
       "      <td>6.19</td>\n",
       "      <td>0.45</td>\n",
       "      <td>0.60</td>\n",
       "      <td>1.19</td>\n",
       "      <td>1.59</td>\n",
       "    </tr>\n",
       "    <tr>\n",
       "      <th>7</th>\n",
       "      <td>21.75</td>\n",
       "      <td>78.25</td>\n",
       "      <td>1.11</td>\n",
       "      <td>1.42</td>\n",
       "      <td>0.58</td>\n",
       "      <td>0.74</td>\n",
       "      <td>76.57</td>\n",
       "      <td>97.85</td>\n",
       "      <td>0.34</td>\n",
       "      <td>0.45</td>\n",
       "      <td>...</td>\n",
       "      <td>1.78</td>\n",
       "      <td>2.33</td>\n",
       "      <td>3.22</td>\n",
       "      <td>4.20</td>\n",
       "      <td>2.99</td>\n",
       "      <td>3.90</td>\n",
       "      <td>0.55</td>\n",
       "      <td>0.72</td>\n",
       "      <td>1.46</td>\n",
       "      <td>1.91</td>\n",
       "    </tr>\n",
       "    <tr>\n",
       "      <th>8</th>\n",
       "      <td>26.94</td>\n",
       "      <td>73.06</td>\n",
       "      <td>1.01</td>\n",
       "      <td>1.38</td>\n",
       "      <td>0.57</td>\n",
       "      <td>0.78</td>\n",
       "      <td>71.48</td>\n",
       "      <td>97.84</td>\n",
       "      <td>0.49</td>\n",
       "      <td>0.69</td>\n",
       "      <td>...</td>\n",
       "      <td>0.96</td>\n",
       "      <td>1.34</td>\n",
       "      <td>2.24</td>\n",
       "      <td>3.13</td>\n",
       "      <td>2.53</td>\n",
       "      <td>3.53</td>\n",
       "      <td>0.50</td>\n",
       "      <td>0.69</td>\n",
       "      <td>1.30</td>\n",
       "      <td>1.82</td>\n",
       "    </tr>\n",
       "    <tr>\n",
       "      <th>9</th>\n",
       "      <td>24.48</td>\n",
       "      <td>75.52</td>\n",
       "      <td>1.20</td>\n",
       "      <td>1.59</td>\n",
       "      <td>0.44</td>\n",
       "      <td>0.58</td>\n",
       "      <td>73.89</td>\n",
       "      <td>97.83</td>\n",
       "      <td>0.53</td>\n",
       "      <td>0.72</td>\n",
       "      <td>...</td>\n",
       "      <td>1.25</td>\n",
       "      <td>1.70</td>\n",
       "      <td>3.04</td>\n",
       "      <td>4.11</td>\n",
       "      <td>3.31</td>\n",
       "      <td>4.47</td>\n",
       "      <td>0.66</td>\n",
       "      <td>0.90</td>\n",
       "      <td>1.60</td>\n",
       "      <td>2.16</td>\n",
       "    </tr>\n",
       "    <tr>\n",
       "      <th>10</th>\n",
       "      <td>23.02</td>\n",
       "      <td>76.98</td>\n",
       "      <td>1.37</td>\n",
       "      <td>1.79</td>\n",
       "      <td>0.51</td>\n",
       "      <td>0.67</td>\n",
       "      <td>75.10</td>\n",
       "      <td>97.55</td>\n",
       "      <td>0.49</td>\n",
       "      <td>0.65</td>\n",
       "      <td>...</td>\n",
       "      <td>1.53</td>\n",
       "      <td>2.03</td>\n",
       "      <td>4.52</td>\n",
       "      <td>6.01</td>\n",
       "      <td>3.77</td>\n",
       "      <td>5.02</td>\n",
       "      <td>0.65</td>\n",
       "      <td>0.87</td>\n",
       "      <td>1.56</td>\n",
       "      <td>2.08</td>\n",
       "    </tr>\n",
       "    <tr>\n",
       "      <th>11</th>\n",
       "      <td>26.19</td>\n",
       "      <td>73.81</td>\n",
       "      <td>0.98</td>\n",
       "      <td>1.33</td>\n",
       "      <td>0.42</td>\n",
       "      <td>0.57</td>\n",
       "      <td>72.41</td>\n",
       "      <td>98.10</td>\n",
       "      <td>0.26</td>\n",
       "      <td>0.36</td>\n",
       "      <td>...</td>\n",
       "      <td>0.81</td>\n",
       "      <td>1.11</td>\n",
       "      <td>2.94</td>\n",
       "      <td>4.06</td>\n",
       "      <td>3.17</td>\n",
       "      <td>4.38</td>\n",
       "      <td>0.44</td>\n",
       "      <td>0.61</td>\n",
       "      <td>1.64</td>\n",
       "      <td>2.27</td>\n",
       "    </tr>\n",
       "    <tr>\n",
       "      <th>12</th>\n",
       "      <td>37.29</td>\n",
       "      <td>62.71</td>\n",
       "      <td>1.07</td>\n",
       "      <td>1.70</td>\n",
       "      <td>1.00</td>\n",
       "      <td>1.60</td>\n",
       "      <td>60.64</td>\n",
       "      <td>96.70</td>\n",
       "      <td>0.19</td>\n",
       "      <td>0.31</td>\n",
       "      <td>...</td>\n",
       "      <td>0.65</td>\n",
       "      <td>1.07</td>\n",
       "      <td>1.97</td>\n",
       "      <td>3.25</td>\n",
       "      <td>3.84</td>\n",
       "      <td>6.33</td>\n",
       "      <td>0.56</td>\n",
       "      <td>0.93</td>\n",
       "      <td>1.07</td>\n",
       "      <td>1.76</td>\n",
       "    </tr>\n",
       "    <tr>\n",
       "      <th>13</th>\n",
       "      <td>55.25</td>\n",
       "      <td>44.75</td>\n",
       "      <td>0.86</td>\n",
       "      <td>1.92</td>\n",
       "      <td>1.15</td>\n",
       "      <td>2.56</td>\n",
       "      <td>42.75</td>\n",
       "      <td>95.51</td>\n",
       "      <td>0.34</td>\n",
       "      <td>0.80</td>\n",
       "      <td>...</td>\n",
       "      <td>0.72</td>\n",
       "      <td>1.68</td>\n",
       "      <td>0.61</td>\n",
       "      <td>1.43</td>\n",
       "      <td>1.26</td>\n",
       "      <td>2.95</td>\n",
       "      <td>0.23</td>\n",
       "      <td>0.53</td>\n",
       "      <td>0.67</td>\n",
       "      <td>1.56</td>\n",
       "    </tr>\n",
       "    <tr>\n",
       "      <th>14</th>\n",
       "      <td>57.32</td>\n",
       "      <td>42.68</td>\n",
       "      <td>1.31</td>\n",
       "      <td>3.08</td>\n",
       "      <td>1.00</td>\n",
       "      <td>2.35</td>\n",
       "      <td>40.36</td>\n",
       "      <td>94.57</td>\n",
       "      <td>0.48</td>\n",
       "      <td>1.18</td>\n",
       "      <td>...</td>\n",
       "      <td>1.29</td>\n",
       "      <td>3.20</td>\n",
       "      <td>0.65</td>\n",
       "      <td>1.61</td>\n",
       "      <td>1.55</td>\n",
       "      <td>3.85</td>\n",
       "      <td>0.32</td>\n",
       "      <td>0.79</td>\n",
       "      <td>0.98</td>\n",
       "      <td>2.43</td>\n",
       "    </tr>\n",
       "    <tr>\n",
       "      <th>15</th>\n",
       "      <td>63.84</td>\n",
       "      <td>36.16</td>\n",
       "      <td>0.80</td>\n",
       "      <td>2.22</td>\n",
       "      <td>0.54</td>\n",
       "      <td>1.49</td>\n",
       "      <td>34.82</td>\n",
       "      <td>96.30</td>\n",
       "      <td>0.29</td>\n",
       "      <td>0.83</td>\n",
       "      <td>...</td>\n",
       "      <td>0.52</td>\n",
       "      <td>1.49</td>\n",
       "      <td>0.91</td>\n",
       "      <td>2.62</td>\n",
       "      <td>0.97</td>\n",
       "      <td>2.78</td>\n",
       "      <td>0.45</td>\n",
       "      <td>1.29</td>\n",
       "      <td>0.70</td>\n",
       "      <td>2.00</td>\n",
       "    </tr>\n",
       "    <tr>\n",
       "      <th>16</th>\n",
       "      <td>46.36</td>\n",
       "      <td>53.64</td>\n",
       "      <td>1.09</td>\n",
       "      <td>2.03</td>\n",
       "      <td>1.22</td>\n",
       "      <td>2.28</td>\n",
       "      <td>51.33</td>\n",
       "      <td>95.69</td>\n",
       "      <td>0.52</td>\n",
       "      <td>1.02</td>\n",
       "      <td>...</td>\n",
       "      <td>0.82</td>\n",
       "      <td>1.60</td>\n",
       "      <td>1.18</td>\n",
       "      <td>2.31</td>\n",
       "      <td>1.44</td>\n",
       "      <td>2.81</td>\n",
       "      <td>0.40</td>\n",
       "      <td>0.78</td>\n",
       "      <td>1.23</td>\n",
       "      <td>2.40</td>\n",
       "    </tr>\n",
       "    <tr>\n",
       "      <th>17</th>\n",
       "      <td>59.69</td>\n",
       "      <td>40.31</td>\n",
       "      <td>1.00</td>\n",
       "      <td>2.48</td>\n",
       "      <td>1.29</td>\n",
       "      <td>3.20</td>\n",
       "      <td>38.02</td>\n",
       "      <td>94.31</td>\n",
       "      <td>0.47</td>\n",
       "      <td>1.23</td>\n",
       "      <td>...</td>\n",
       "      <td>0.34</td>\n",
       "      <td>0.91</td>\n",
       "      <td>0.32</td>\n",
       "      <td>0.84</td>\n",
       "      <td>3.05</td>\n",
       "      <td>8.02</td>\n",
       "      <td>0.36</td>\n",
       "      <td>0.94</td>\n",
       "      <td>0.57</td>\n",
       "      <td>1.51</td>\n",
       "    </tr>\n",
       "  </tbody>\n",
       "</table>\n",
       "<p>18 rows × 32 columns</p>\n",
       "</div>"
      ],
      "text/plain": [
       "   % Abs/Ins % Vot/Ins % Blancs/Ins % Blancs/Vot % Nuls/Ins % Nuls/Vot  \\\n",
       "0      26.10     73.90         1.09         1.48       0.48       0.65   \n",
       "1      21.57     78.43         1.20         1.53       0.61       0.77   \n",
       "2      22.10     77.90         1.26         1.62       0.46       0.59   \n",
       "3      22.92     77.08         1.32         1.72       0.58       0.76   \n",
       "4      21.21     78.79         1.24         1.58       0.52       0.66   \n",
       "5      25.01     74.99         1.26         1.69       0.51       0.68   \n",
       "6      23.96     76.04         1.04         1.37       0.38       0.50   \n",
       "7      21.75     78.25         1.11         1.42       0.58       0.74   \n",
       "8      26.94     73.06         1.01         1.38       0.57       0.78   \n",
       "9      24.48     75.52         1.20         1.59       0.44       0.58   \n",
       "10     23.02     76.98         1.37         1.79       0.51       0.67   \n",
       "11     26.19     73.81         0.98         1.33       0.42       0.57   \n",
       "12     37.29     62.71         1.07         1.70       1.00       1.60   \n",
       "13     55.25     44.75         0.86         1.92       1.15       2.56   \n",
       "14     57.32     42.68         1.31         3.08       1.00       2.35   \n",
       "15     63.84     36.16         0.80         2.22       0.54       1.49   \n",
       "16     46.36     53.64         1.09         2.03       1.22       2.28   \n",
       "17     59.69     40.31         1.00         2.48       1.29       3.20   \n",
       "\n",
       "   % Exp/Ins % Exp/Vot % Voix/Ins 0 % Voix/Exp 0  ... % Voix/Ins 7  \\\n",
       "0      72.32     97.87         0.48         0.67  ...         1.04   \n",
       "1      76.63     97.70         0.41         0.54  ...         1.73   \n",
       "2      76.18     97.79         0.42         0.55  ...         1.40   \n",
       "3      75.17     97.52         0.53         0.71  ...         1.33   \n",
       "4      77.03     97.76         0.51         0.66  ...         1.70   \n",
       "5      73.22     97.64         0.50         0.69  ...         1.26   \n",
       "6      74.62     98.13         0.30         0.40  ...         1.07   \n",
       "7      76.57     97.85         0.34         0.45  ...         1.78   \n",
       "8      71.48     97.84         0.49         0.69  ...         0.96   \n",
       "9      73.89     97.83         0.53         0.72  ...         1.25   \n",
       "10     75.10     97.55         0.49         0.65  ...         1.53   \n",
       "11     72.41     98.10         0.26         0.36  ...         0.81   \n",
       "12     60.64     96.70         0.19         0.31  ...         0.65   \n",
       "13     42.75     95.51         0.34         0.80  ...         0.72   \n",
       "14     40.36     94.57         0.48         1.18  ...         1.29   \n",
       "15     34.82     96.30         0.29         0.83  ...         0.52   \n",
       "16     51.33     95.69         0.52         1.02  ...         0.82   \n",
       "17     38.02     94.31         0.47         1.23  ...         0.34   \n",
       "\n",
       "   % Voix/Exp 7 % Voix/Ins 8 % Voix/Exp 8 % Voix/Ins 9 % Voix/Exp 9  \\\n",
       "0          1.43         2.90         4.01         3.13         4.33   \n",
       "1          2.26         3.40         4.44         3.52         4.60   \n",
       "2          1.83         4.04         5.31         3.92         5.15   \n",
       "3          1.77         3.02         4.02         3.85         5.12   \n",
       "4          2.21         4.77         6.19         3.62         4.70   \n",
       "5          1.72         2.96         4.04         3.90         5.33   \n",
       "6          1.43         4.03         5.40         4.62         6.19   \n",
       "7          2.33         3.22         4.20         2.99         3.90   \n",
       "8          1.34         2.24         3.13         2.53         3.53   \n",
       "9          1.70         3.04         4.11         3.31         4.47   \n",
       "10         2.03         4.52         6.01         3.77         5.02   \n",
       "11         1.11         2.94         4.06         3.17         4.38   \n",
       "12         1.07         1.97         3.25         3.84         6.33   \n",
       "13         1.68         0.61         1.43         1.26         2.95   \n",
       "14         3.20         0.65         1.61         1.55         3.85   \n",
       "15         1.49         0.91         2.62         0.97         2.78   \n",
       "16         1.60         1.18         2.31         1.44         2.81   \n",
       "17         0.91         0.32         0.84         3.05         8.02   \n",
       "\n",
       "   % Voix/Ins 10 % Voix/Exp 10 % Voix/Ins 11 % Voix/Exp 11  \n",
       "0           0.58          0.80          1.94          2.68  \n",
       "1           0.73          0.95          1.52          1.98  \n",
       "2           0.55          0.72          1.77          2.33  \n",
       "3           0.64          0.85          1.94          2.58  \n",
       "4           0.78          1.01          1.37          1.78  \n",
       "5           0.61          0.83          1.73          2.36  \n",
       "6           0.45          0.60          1.19          1.59  \n",
       "7           0.55          0.72          1.46          1.91  \n",
       "8           0.50          0.69          1.30          1.82  \n",
       "9           0.66          0.90          1.60          2.16  \n",
       "10          0.65          0.87          1.56          2.08  \n",
       "11          0.44          0.61          1.64          2.27  \n",
       "12          0.56          0.93          1.07          1.76  \n",
       "13          0.23          0.53          0.67          1.56  \n",
       "14          0.32          0.79          0.98          2.43  \n",
       "15          0.45          1.29          0.70          2.00  \n",
       "16          0.40          0.78          1.23          2.40  \n",
       "17          0.36          0.94          0.57          1.51  \n",
       "\n",
       "[18 rows x 32 columns]"
      ]
     },
     "execution_count": 154,
     "metadata": {},
     "output_type": "execute_result"
    }
   ],
   "source": [
    "data2"
   ]
  },
  {
   "cell_type": "code",
   "execution_count": 155,
   "id": "4263c3e4",
   "metadata": {},
   "outputs": [],
   "source": [
    "tp = data2.get([\"% Voix/Exp 0\", \"% Voix/Exp 1\", \"% Voix/Exp 2\", \"% Voix/Exp 3\", \"% Voix/Exp 4\", \"% Voix/Exp 5\", \"% Voix/Exp 6\",\n",
    "                \"% Voix/Exp 7\", \"% Voix/Exp 8\", \"% Voix/Exp 9\", \"% Voix/Exp 10\", \"% Voix/Exp 11\",\n",
    "               \"% Voix/Ins 0\", \"% Voix/Ins 1\", \"% Voix/Ins 2\", \"% Voix/Ins 3\", \"% Voix/Ins 4\", \"% Voix/Ins 5\", \"% Voix/Ins 6\",\n",
    "                \"% Voix/Ins 7\", \"% Voix/Ins 8\", \"% Voix/Ins 9\", \"% Voix/Ins 10\", \"% Voix/Ins 11\"])\n",
    "tp2 = data2.get([\"% Voix/Exp 0\", \"% Voix/Ins 0\",\n",
    "                \"% Voix/Exp 1\", \"% Voix/Ins 1\",\n",
    "                \"% Voix/Exp 2\", \"% Voix/Ins 2\",\n",
    "                 \"% Voix/Exp 3\", \"% Voix/Ins 3\",\n",
    "                 \"% Voix/Exp 4\", \"% Voix/Ins 4\",\n",
    "                 \"% Voix/Exp 5\", \"% Voix/Ins 5\",\n",
    "                 \"% Voix/Exp 6\", \"% Voix/Ins 6\",\n",
    "                 \"% Voix/Exp 7\", \"% Voix/Ins 7\",\n",
    "                 \"% Voix/Exp 8\", \"% Voix/Ins 8\",\n",
    "                 \"% Voix/Exp 9\", \"% Voix/Ins 9\",\n",
    "                 \"% Voix/Exp 10\", \"% Voix/Ins 10\",\n",
    "                 \"% Voix/Exp 11\", \"% Voix/Ins 11\"])\n",
    "x = tp2.to_numpy(dtype=float)"
   ]
  },
  {
   "cell_type": "code",
   "execution_count": 156,
   "id": "8cfe2f88",
   "metadata": {},
   "outputs": [
    {
     "data": {
      "text/plain": [
       "(18, 24)"
      ]
     },
     "execution_count": 156,
     "metadata": {},
     "output_type": "execute_result"
    }
   ],
   "source": [
    "x.shape"
   ]
  },
  {
   "cell_type": "code",
   "execution_count": 157,
   "id": "1758140d",
   "metadata": {},
   "outputs": [],
   "source": [
    "y=x.reshape(18,12,2).reshape(18*12,2)"
   ]
  },
  {
   "cell_type": "code",
   "execution_count": 162,
   "id": "cbef8c60",
   "metadata": {},
   "outputs": [
    {
     "data": {
      "text/plain": [
       "<matplotlib.legend.Legend at 0x170fa8f53a0>"
      ]
     },
     "execution_count": 162,
     "metadata": {},
     "output_type": "execute_result"
    },
    {
     "data": {
      "image/png": "[encoded data removed]",
      "text/plain": [
       "<Figure size 720x720 with 1 Axes>"
      ]
     },
     "metadata": {
      "needs_background": "light"
     },
     "output_type": "display_data"
    }
   ],
   "source": [
    "plt.figure(figsize=(10,10))\n",
    "for i in range(12):\n",
    "    plt.scatter(x[:,2*i+1],x[:,2*i], label=f\"c{i}\")\n",
    "t=np.arange(0,20,0.1)\n",
    "plt.plot(t,t)\n",
    "plt.xlabel(\"% Voix/Ins\")\n",
    "plt.ylabel(\"% Voix/Exp\")\n",
    "plt.legend()"
   ]
  },
  {
   "cell_type": "code",
   "execution_count": 163,
   "id": "d1146bbd",
   "metadata": {},
   "outputs": [
    {
     "data": {
      "text/plain": [
       "<matplotlib.collections.PathCollection at 0x170fb447df0>"
      ]
     },
     "execution_count": 163,
     "metadata": {},
     "output_type": "execute_result"
    },
    {
     "data": {
      "image/png": "[encoded data removed]",
      "text/plain": [
       "<Figure size 432x288 with 1 Axes>"
      ]
     },
     "metadata": {
      "needs_background": "light"
     },
     "output_type": "display_data"
    }
   ],
   "source": [
    "plt.scatter(y[:,1],y[:,0])"
   ]
  },
  {
   "cell_type": "code",
   "execution_count": 164,
   "id": "0b142359",
   "metadata": {
    "scrolled": false
   },
   "outputs": [
    {
     "data": {
      "text/plain": [
       "<matplotlib.collections.PathCollection at 0x170fb4a5f40>"
      ]
     },
     "execution_count": 164,
     "metadata": {},
     "output_type": "execute_result"
    },
    {
     "data": {
      "image/png": "[encoded data removed]",
      "text/plain": [
       "<Figure size 432x288 with 1 Axes>"
      ]
     },
     "metadata": {
      "needs_background": "light"
     },
     "output_type": "display_data"
    }
   ],
   "source": [
    "from sklearn.decomposition import PCA\n",
    "\n",
    "pca=PCA(n_components=2).fit(y.T)\n",
    "plt.scatter(pca.components_[0], pca.components_[1])"
   ]
  },
  {
   "cell_type": "code",
   "execution_count": 200,
   "id": "e30c67c6",
   "metadata": {},
   "outputs": [
    {
     "data": {
      "text/plain": [
       "array([5.99227978e+01, 1.38206917e-14])"
      ]
     },
     "execution_count": 200,
     "metadata": {},
     "output_type": "execute_result"
    }
   ],
   "source": [
    "pca.singular_values_"
   ]
  },
  {
   "cell_type": "code",
   "execution_count": 197,
   "id": "61ff0335",
   "metadata": {},
   "outputs": [
    {
     "data": {
      "text/plain": [
       "Text(0, 0.5, '% Voix/Exp')"
      ]
     },
     "execution_count": 197,
     "metadata": {},
     "output_type": "execute_result"
    },
    {
     "data": {
      "image/png": "[encoded data removed]",
      "text/plain": [
       "<Figure size 1440x720 with 1 Axes>"
      ]
     },
     "metadata": {
      "needs_background": "light"
     },
     "output_type": "display_data"
    }
   ],
   "source": [
    "from sklearn.mixture import GaussianMixture\n",
    "\n",
    "res=GaussianMixture(n_components=3).fit(y)\n",
    "clust = res.predict(y)\n",
    "\n",
    "plt.figure(figsize=(20,10))\n",
    "plt.subplot(1,2,1)\n",
    "plt.scatter(y[:,1],y[:,0], c=clust)\n",
    "\n",
    "plt.xlabel(\"% Voix/Ins\")\n",
    "plt.ylabel(\"% Voix/Exp\")\n",
    "\n",
    "#plt.subplot(1,2,2)\n",
    "#pca=PCA(n_components=2).fit(y.T)\n",
    "#plt.scatter(pca.components_[0], pca.components_[1], c=clust)"
   ]
  },
  {
   "cell_type": "code",
   "execution_count": 198,
   "id": "96fd356e",
   "metadata": {
    "scrolled": false
   },
   "outputs": [
    {
     "name": "stderr",
     "output_type": "stream",
     "text": [
      "D:\\Logiciels\\anaconda\\lib\\site-packages\\sklearn\\cluster\\_kmeans.py:1036: UserWarning: KMeans is known to have a memory leak on Windows with MKL, when there are less chunks than available threads. You can avoid it by setting the environment variable OMP_NUM_THREADS=1.\n",
      "  warnings.warn(\n"
     ]
    },
    {
     "data": {
      "text/plain": [
       "9"
      ]
     },
     "execution_count": 198,
     "metadata": {},
     "output_type": "execute_result"
    },
    {
     "data": {
      "image/png": "[encoded data removed]",
      "text/plain": [
       "<Figure size 432x288 with 1 Axes>"
      ]
     },
     "metadata": {
      "needs_background": "light"
     },
     "output_type": "display_data"
    }
   ],
   "source": [
    "AIC, BIC = [], []\n",
    "\n",
    "for i in range(1,16):\n",
    "    res=GaussianMixture(n_components=i).fit(y)\n",
    "    AIC.append(res.aic(y))\n",
    "    BIC.append(res.bic(y))\n",
    "\n",
    "t=range(1,16)\n",
    "plt.plot(t, BIC, label=\"AIC\")\n",
    "np.array(BIC).argmin()"
   ]
  },
  {
   "cell_type": "code",
   "execution_count": 194,
   "id": "113d4c71",
   "metadata": {
    "scrolled": true
   },
   "outputs": [
    {
     "data": {
      "text/plain": [
       "1409.2465018233252"
      ]
     },
     "execution_count": 194,
     "metadata": {},
     "output_type": "execute_result"
    }
   ],
   "source": [
    "BIC[11]"
   ]
  },
  {
   "cell_type": "code",
   "execution_count": 195,
   "id": "13333d17",
   "metadata": {},
   "outputs": [],
   "source": [
    "res = GaussianMixture(n_components=12).fit(y)"
   ]
  },
  {
   "cell_type": "code",
   "execution_count": 173,
   "id": "28a9fa68",
   "metadata": {},
   "outputs": [
    {
     "data": {
      "text/plain": [
       "[1550.3199531855478,\n",
       " 1550.3199531855478,\n",
       " 1550.3199531855478,\n",
       " 1550.3199531855478,\n",
       " 1550.3199531855478,\n",
       " 1550.3199531855478,\n",
       " 1550.3199531855478,\n",
       " 1550.3199531855478]"
      ]
     },
     "execution_count": 173,
     "metadata": {},
     "output_type": "execute_result"
    }
   ],
   "source": [
    "AIC"
   ]
  },
  {
   "cell_type": "code",
   "execution_count": 133,
   "id": "3e381785",
   "metadata": {},
   "outputs": [
    {
     "data": {
      "text/plain": [
       "<matplotlib.collections.PathCollection at 0x170f96140d0>"
      ]
     },
     "execution_count": 133,
     "metadata": {},
     "output_type": "execute_result"
    },
    {
     "data": {
      "image/png": "[encoded data removed]",
      "text/plain": [
       "<Figure size 432x288 with 1 Axes>"
      ]
     },
     "metadata": {
      "needs_background": "light"
     },
     "output_type": "display_data"
    }
   ],
   "source": [
    "pca=PCA(n_components=2).fit(y.T)\n",
    "plt.scatter(pca.components_[0], pca.components_[1], c=clust)"
   ]
  },
  {
   "cell_type": "markdown",
   "id": "42b03344",
   "metadata": {},
   "source": [
    "#### Question 1:\n",
    "\n",
    "Write a function that simulates from this mixture model. Play a bit with your brand new function to see how changing the parameters impacts the structure of the observations."
   ]
  },
  {
   "cell_type": "code",
   "execution_count": 27,
   "id": "a34a8969",
   "metadata": {},
   "outputs": [
    {
     "data": {
      "text/plain": [
       "array([-1.49403083, -0.95582518])"
      ]
     },
     "execution_count": 27,
     "metadata": {},
     "output_type": "execute_result"
    }
   ],
   "source": [
    "np.random.normal(scale=np.array([8,1]))"
   ]
  },
  {
   "cell_type": "code",
   "execution_count": 30,
   "id": "e098cb5d",
   "metadata": {},
   "outputs": [],
   "source": [
    "def gauss(yi, mu, sigma) :\n",
    "    return(1/(sigma * np.sqrt(2 * np.pi)) *\n",
    "               np.exp( - (yi - mu)**2 / (2 * sigma**2) ))"
   ]
  },
  {
   "cell_type": "code",
   "execution_count": 31,
   "id": "6bdcf96c",
   "metadata": {},
   "outputs": [
    {
     "data": {
      "text/plain": [
       "array([0.02195823])"
      ]
     },
     "execution_count": 31,
     "metadata": {},
     "output_type": "execute_result"
    }
   ],
   "source": [
    "gauss(point[0], mu[0], sigma[0])"
   ]
  },
  {
   "cell_type": "code",
   "execution_count": 33,
   "id": "c0757cfe",
   "metadata": {},
   "outputs": [
    {
     "data": {
      "text/plain": [
       "27"
      ]
     },
     "execution_count": 33,
     "metadata": {},
     "output_type": "execute_result"
    }
   ],
   "source": [
    "sum(mu)"
   ]
  },
  {
   "cell_type": "code",
   "execution_count": 108,
   "id": "12ecaed9",
   "metadata": {},
   "outputs": [
    {
     "data": {
      "text/plain": [
       "([array([2.22307849]),\n",
       "  array([13.70142218]),\n",
       "  array([-5.8675324]),\n",
       "  array([12.64497577]),\n",
       "  array([6.75812897]),\n",
       "  array([3.88426731]),\n",
       "  array([3.89525342]),\n",
       "  array([13.29066445]),\n",
       "  array([19.12010821]),\n",
       "  array([12.5651107]),\n",
       "  array([4.70728456]),\n",
       "  array([4.87132509]),\n",
       "  array([7.67757138]),\n",
       "  array([7.26747298]),\n",
       "  array([13.24779858]),\n",
       "  array([5.01534067]),\n",
       "  array([10.32339551]),\n",
       "  array([5.65860369]),\n",
       "  array([8.74373246]),\n",
       "  array([12.67127004]),\n",
       "  array([12.65655019]),\n",
       "  array([6.58766844]),\n",
       "  array([5.06409995]),\n",
       "  array([-8.36241023]),\n",
       "  array([9.17541255]),\n",
       "  array([2.54559172]),\n",
       "  array([3.02714109]),\n",
       "  array([13.89461849]),\n",
       "  array([12.93181576]),\n",
       "  array([2.72472237]),\n",
       "  array([10.55834219]),\n",
       "  array([13.37327933]),\n",
       "  array([5.31481558]),\n",
       "  array([13.69205034]),\n",
       "  array([9.42364766]),\n",
       "  array([4.57545784]),\n",
       "  array([12.74224543]),\n",
       "  array([-1.96185714]),\n",
       "  array([-13.83509816]),\n",
       "  array([7.22616782]),\n",
       "  array([-2.04739981]),\n",
       "  array([5.83262385]),\n",
       "  array([4.70845793]),\n",
       "  array([4.02045616]),\n",
       "  array([12.87591243]),\n",
       "  array([5.03033162]),\n",
       "  array([-10.17307801]),\n",
       "  array([12.97096962]),\n",
       "  array([13.27299645]),\n",
       "  array([6.6404724])],\n",
       " [0,\n",
       "  2,\n",
       "  0,\n",
       "  0,\n",
       "  1,\n",
       "  1,\n",
       "  1,\n",
       "  2,\n",
       "  0,\n",
       "  2,\n",
       "  1,\n",
       "  1,\n",
       "  4,\n",
       "  3,\n",
       "  2,\n",
       "  1,\n",
       "  4,\n",
       "  1,\n",
       "  4,\n",
       "  2,\n",
       "  2,\n",
       "  1,\n",
       "  1,\n",
       "  4,\n",
       "  3,\n",
       "  3,\n",
       "  4,\n",
       "  2,\n",
       "  2,\n",
       "  3,\n",
       "  3,\n",
       "  2,\n",
       "  3,\n",
       "  2,\n",
       "  4,\n",
       "  1,\n",
       "  2,\n",
       "  4,\n",
       "  4,\n",
       "  1,\n",
       "  0,\n",
       "  1,\n",
       "  1,\n",
       "  1,\n",
       "  2,\n",
       "  1,\n",
       "  4,\n",
       "  2,\n",
       "  2,\n",
       "  3])"
      ]
     },
     "execution_count": 108,
     "metadata": {},
     "output_type": "execute_result"
    }
   ],
   "source": [
    "tau = [0.2, 0.2, 0.2, 0.2, 0.2]\n",
    "mu = [1, 5, 13, 6, 2]\n",
    "sigma = [8, 1, 0.5, 3, 10]\n",
    "n = 50\n",
    "\n",
    "point = []\n",
    "classe = []\n",
    "for i in range(n) : \n",
    "    nb = np.random.choice([0, 1, 2 ,3, 4], p=tau)\n",
    "    classe.append(nb)\n",
    "    point.append(np.random.normal(mu[nb], sigma[nb], 1))\n",
    "\n",
    "point, classe"
   ]
  },
  {
   "cell_type": "markdown",
   "id": "46a6d40c",
   "metadata": {},
   "source": [
    "#### Question 2:\n",
    "\n",
    "Write a pseudo code for an EM algorithm on this mixture model and, next, implement it."
   ]
  },
  {
   "cell_type": "code",
   "execution_count": 109,
   "id": "a815e32c",
   "metadata": {},
   "outputs": [
    {
     "name": "stdout",
     "output_type": "stream",
     "text": [
      "0\n",
      "[array([0.2]), array([0.2]), array([0.2]), array([0.2]), array([0.2]), array([0.2]), array([0.2]), array([0.2]), array([0.2]), array([0.2]), array([0.2]), array([0.2]), array([0.2]), array([0.2]), array([0.2]), array([0.2]), array([0.2]), array([0.2]), array([0.2]), array([0.2]), array([0.2]), array([0.2]), array([0.2]), array([0.2]), array([0.2]), array([0.2]), array([0.2]), array([0.2]), array([0.2]), array([0.2]), array([0.2]), array([0.2]), array([0.2]), array([0.2]), array([0.2]), array([0.2]), array([0.2]), array([0.2]), array([0.2]), array([0.2]), array([0.2]), array([0.2]), array([0.2]), array([0.2]), array([0.2]), array([0.2]), array([0.2]), array([0.2]), array([0.2]), array([0.2])]\n",
      "0\n",
      "[array([0.24702233]), array([4.10511631e-34]), array([2.60707979e-09]), array([1.57377372e-28]), array([2.75140858e-06]), array([0.1829403]), array([0.18137018]), array([6.94796407e-32]), array([2.28598151e-70]), array([3.97516886e-28]), array([0.03829217]), array([0.02213225]), array([9.05354587e-09]), array([1.28685101e-07]), array([1.17544578e-31]), array([0.01304127]), array([5.82234025e-18]), array([0.00084201]), array([4.15379405e-12]), array([1.1583731e-28]), array([1.37528586e-28]), array([7.2362722e-06]), array([0.01081002]), array([4.27947572e-18]), array([1.33792945e-13]), array([0.24537418]), array([0.23932488]), array([3.4660201e-35]), array([5.3557833e-30]), array([0.24383641]), array([6.33851589e-19]), array([2.50911759e-32]), array([0.00389007]), array([4.62368235e-34]), array([1.70541488e-14]), array([0.05655471]), array([5.04770132e-29]), array([0.17220221]), array([7.90491507e-47]), array([1.66564575e-07]), array([0.15783247]), array([0.00036936]), array([0.03815126]), array([0.16148832]), array([1.04172301e-29]), array([0.01231549]), array([3.6630487e-26]), array([3.35469862e-30]), array([8.63119746e-32]), array([5.37987438e-06])]\n",
      "0\n",
      "[array([0.31785843]), array([3.82402111e-34]), array([1.9307214e-09]), array([1.38948695e-28]), array([1.23100811e-06]), array([0.13749858]), array([0.13498543]), array([6.35617982e-32]), array([2.28270056e-70]), array([3.49202762e-28]), array([0.01559574]), array([0.0086696]), array([4.57026485e-09]), array([6.14831891e-08]), array([1.07309361e-31]), array([0.00502799]), array([4.17048286e-18]), array([0.0003328]), array([2.42772079e-12]), array([1.02439547e-28]), array([1.21511457e-28]), array([3.16995033e-06]), array([0.00415733]), array([3.88008986e-18]), array([8.29078039e-14]), array([0.30975143]), array([0.28274934]), array([3.2527177e-35]), array([4.80926197e-30]), array([0.30250361]), array([4.66378084e-19]), array([2.3043862e-32]), array([0.00149945]), array([4.30545592e-34]), array([1.09214218e-14]), array([0.0242781]), array([4.48318603e-29]), array([0.14158291]), array([7.88701447e-47]), array([7.91486901e-08]), array([0.12201466]), array([0.00014848]), array([0.01553251]), array([0.10703862]), array([9.32480201e-30]), array([0.00474388]), array([3.54058214e-26]), array([3.01890388e-30]), array([7.88931342e-32]), array([2.37206537e-06])]\n",
      "0\n",
      "[array([0.44128668]), array([3.79031004e-34]), array([1.74688632e-09]), array([1.35884699e-28]), array([8.33624301e-07]), array([0.10465515]), array([0.10212955]), array([6.27491079e-32]), array([2.28266944e-70]), array([3.40993802e-28]), array([0.00942091]), array([0.00521587]), array([3.34756199e-09]), array([4.34656485e-08]), array([1.05884613e-31]), array([0.00302966]), array([3.74507107e-18]), array([0.00020724]), array([1.94752647e-12]), array([1.00228067e-28]), array([1.18856867e-28]), array([2.11687564e-06]), array([0.00250829]), array([3.81455029e-18]), array([6.88383701e-14]), array([0.41395211]), array([0.33655493]), array([3.22879977e-35]), array([4.72550915e-30]), array([0.39128528]), array([4.24344543e-19]), array([2.27700368e-32]), array([0.00091441]), array([4.26716928e-34]), array([9.23961634e-15]), array([0.01481033]), array([4.39182989e-29]), array([0.12309018]), array([7.88673737e-47]), array([5.57564315e-08]), array([0.1022811]), array([9.35782506e-05]), array([0.00938217]), array([0.07600527]), array([9.15463528e-30]), array([0.00285951]), array([3.52985516e-26]), array([2.96803562e-30]), array([7.78685985e-32]), array([1.5908771e-06])]\n",
      "0\n",
      "[array([0.69333907]), array([3.78961195e-34]), array([1.72098229e-09]), array([1.35751649e-28]), array([6.67079424e-07]), array([0.07683268]), array([0.07471861]), array([6.27264359e-32]), array([2.28266944e-70]), array([3.40618142e-28]), array([0.00633922]), array([0.00353541]), array([2.90086128e-09]), array([3.64106782e-08]), array([1.0584364e-31]), array([0.00207201]), array([3.67748e-18]), array([0.00014952]), array([1.81102357e-12]), array([1.00133691e-28]), array([1.18742472e-28]), array([1.66718243e-06]), array([0.00172131]), array([3.81240849e-18]), array([6.53384263e-14]), array([0.59153771]), array([0.38463031]), array([3.2283711e-35]), array([4.72250928e-30]), array([0.520557]), array([4.18351818e-19]), array([2.27628349e-32]), array([0.00063998]), array([4.26637091e-34]), array([8.85549406e-15]), array([0.00993977]), array([4.3881109e-29]), array([0.11412103]), array([7.8867373e-47]), array([4.65396966e-08]), array([0.09277209]), array([6.86105825e-05]), array([0.0063134]), array([0.05374767]), array([9.14830392e-30]), array([0.00195766]), array([3.52976644e-26]), array([2.96626177e-30]), array([7.78396561e-32]), array([1.25915114e-06])]\n",
      "AAAAAAAAAAAA\n",
      "[array([0.2]), array([0.04055611]), array([0.03871952]), array([0.04279374]), array([0.05269993])]\n",
      "1\n",
      "[array([0.06506712]), array([0.92314358]), array([0.65995545]), array([0.86258583]), array([0.22252765]), array([0.07944728]), array([0.07966554]), array([0.90280296]), array([0.99855114]), array([0.85686333]), array([0.10156944]), array([0.10753709]), array([0.3103615]), array([0.26882389]), array([0.90045514]), array([0.11325451]), array([0.63136725]), array([0.14468261]), array([0.43286482]), array([0.86443291]), array([0.86340114]), array([0.20843814]), array([0.11529483]), array([0.89085844]), array([0.48662938]), array([0.06525256]), array([0.06774545]), array([0.93143459]), array([0.8817584]), array([0.06586473]), array([0.65985898]), array([0.90720467]), array([0.12665147]), array([0.92272141]), array([0.51807161]), array([0.09717688]), array([0.86932779]), array([0.21155654]), array([0.99770045]), array([0.26484368]), array([0.21862591]), array([0.15493673]), array([0.10161013]), array([0.08228884]), array([0.87818916]), array([0.11387609]), array([0.96361439]), array([0.88421071]), array([0.90184059]), array([0.21272508])]\n",
      "1\n",
      "[array([0.12789169]), array([0.04614438]), array([0.17152618]), array([0.07964887]), array([0.2476036]), array([0.14631463]), array([0.14657519]), array([0.05761976]), array([0.00093335]), array([0.08271645]), array([0.17057656]), array([0.17644118]), array([0.26390503]), array([0.25933795]), array([0.05892924]), array([0.18181272]), array([0.19013385]), array([0.20741331]), array([0.25332958]), array([0.07865526]), array([0.0792105]), array([0.24241092]), array([0.18367295]), array([0.06179962]), array([0.24049926]), array([0.12822799]), array([0.13161608]), array([0.04139628]), array([0.06925159]), array([0.12908297]), array([0.17818087]), array([0.05515653]), array([0.19350532]), array([0.04638502]), array([0.23129973]), array([0.16608452]), array([0.07601388]), array([0.23843933]), array([0.00142541]), array([0.25862344]), array([0.24088063]), array([0.21445975]), array([0.17061746]), array([0.14967135]), array([0.07120134]), array([0.18238255]), array([0.02169287]), array([0.06790818]), array([0.05815688]), array([0.24407801])]\n",
      "1\n",
      "[array([0.16254708]), array([0.00324899]), array([0.04715365]), array([0.00859475]), array([0.20291547]), array([0.17681491]), array([0.17701]), array([0.00479921]), array([4.84177786e-06]), array([0.00921277]), array([0.1931557]), array([0.19648209]), array([0.1710265]), array([0.18788238]), array([0.00499431]), array([0.19928505]), array([0.05018703]), array([0.20885724]), array([0.11772488]), array([0.00839941]), array([0.00850828]), array([0.20621424]), array([0.20019844]), array([0.00674667]), array([0.09636383]), array([0.1626333]), array([0.16528853]), array([0.00269046]), array([0.00666552]), array([0.16327205]), array([0.04306354]), array([0.00444239]), array([0.20449817]), array([0.00327858]), array([0.08488552]), array([0.19043123]), array([0.00789153]), array([0.21107152]), array([1.33228658e-05]), array([0.18936877]), array([0.20955654]), array([0.21014992]), array([0.19317982]), array([0.17929857]), array([0.00700818]), array([0.19956806]), array([0.00114509]), array([0.00643446]), array([0.00487878]), array([0.20528971])]\n",
      "1\n",
      "[array([0.2408485]), array([4.4071052e-05]), array([0.00533117]), array([0.00024154]), array([0.12558388]), array([0.23693387]), array([0.23685596]), array([8.71014087e-05]), array([5.1218622e-10]), array([0.00027284]), array([0.22538786]), array([0.22128449]), array([0.07145914]), array([0.09406862]), array([9.3383668e-05]), array([0.21707592]), array([0.00564087]), array([0.1909916]), array([0.02979717]), array([0.000232]), array([0.0002373]), array([0.1364865]), array([0.21551778]), array([0.000167]), array([0.01970117]), array([0.24042272]), array([0.23986692]), array([3.17106726e-05]), array([0.00015472]), array([0.24022159]), array([0.00425615]), array([7.61021028e-05]), array([0.20641526]), array([4.47740206e-05]), array([0.01530803]), array([0.22818456]), array([0.00020797]), array([0.14678201]), array([2.99112122e-09]), array([0.09651156]), array([0.14119153]), array([0.18198029]), array([0.22536102]), array([0.23585473]), array([0.00016892]), array([0.21660414]), array([7.45898604e-06]), array([0.00014546]), array([8.9640856e-05]), array([0.13310861])]\n",
      "1\n",
      "[array([0.39847127]), array([9.61225623e-09]), array([8.03031566e-05]), array([2.39036628e-07]), array([0.03848126]), array([0.30944163]), array([0.30836632]), array([3.48725157e-08]), array([3.70427682e-18]), array([3.00717626e-07]), array([0.21941003]), array([0.20042523]), array([0.01143117]), array([0.02027705]), array([3.9777613e-08]), array([0.18390612]), array([8.85261212e-05]), array([0.11575643]), array([0.00204791]), array([2.21545735e-07]), array([2.31179155e-07]), array([0.04682789]), array([0.17837389]), array([1.05962496e-07]), array([0.00093099]), array([0.3941288]), array([0.37543904]), array([5.15335447e-09]), array([1.03200604e-07]), array([0.38885802]), array([5.22247442e-05]), array([2.70185868e-08]), array([0.15068808]), array([9.90458672e-09]), array([0.00057771]), array([0.23464492]), array([1.80278251e-07]), array([0.06011456]), array([8.24514996e-17]), array([0.02142197]), array([0.05477152]), array([0.09982303]), array([0.21927412]), array([0.2957865]), array([1.21787314e-07]), array([0.18220129]), array([2.7152986e-10]), array([9.18485559e-08]), array([3.68187966e-08]), array([0.04410858])]\n",
      "AAAAAAAAAAAA\n",
      "[array([0.48379336]), array([0.1424168]), array([0.10608663]), array([0.09654671]), array([0.09112416])]\n",
      "2\n",
      "[array([0.09356423]), array([0.29202332]), array([0.32703264]), array([0.26554217]), array([0.11326517]), array([0.08182529]), array([0.08182211]), array([0.28172359]), array([0.41780535]), array([0.26354535]), array([0.08420006]), array([0.08530776]), array([0.13575912]), array([0.12519669]), array([0.2806482]), array([0.08645536]), array([0.2075219]), array([0.09359391]), array([0.16516382]), array([0.26619989]), array([0.26583167]), array([0.10963391]), array([0.08688112]), array([0.39436623]), array([0.17711488]), array([0.08947424]), array([0.08503072]), array([0.29685855]), array([0.2727241]), array([0.08759199]), array([0.21350066]), array([0.28379617]), array([0.08936866]), array([0.29178856]), array([0.18387522]), array([0.08346326]), array([0.26797594]), array([0.21126597]), array([0.52242783]), array([0.12417491]), array([0.2140423]), array([0.09609104]), array([0.08420723]), array([0.08185262]), array([0.27132329]), array([0.08658425]), array([0.43913719]), array([0.27370547]), array([0.28128035]), array([0.11073765])]\n",
      "2\n",
      "[array([0.09835095]), array([0.33725543]), array([0.35701787]), array([0.30539934]), array([0.12233307]), array([0.08620061]), array([0.08620114]), array([0.3249092]), array([0.4740465]), array([0.30298449]), array([0.08909537]), array([0.09037005]), array([0.14854478]), array([0.13617254]), array([0.32361643]), array([0.09168364]), array([0.23489454]), array([0.09981133]), array([0.18353809]), array([0.30619445]), array([0.30574934]), array([0.11814966]), array([0.09216987]), array([0.4244245]), array([0.19795101]), array([0.0940198]), array([0.08936942]), array([0.34302595]), array([0.31407271]), array([0.09204018]), array([0.24217712]), array([0.32739886]), array([0.0950044]), array([0.3369748]), array([0.20613887]), array([0.08824063]), array([0.30834073]), array([0.22912298]), array([0.5161543]), array([0.13498167]), array([0.23227141]), array([0.10265397]), array([0.08910366]), array([0.08627991]), array([0.31238259]), array([0.09183089]), array([0.46305972]), array([0.31525625]), array([0.32437643]), array([0.11941986])]\n",
      "2\n",
      "[array([0.16521295]), array([0.46747138]), array([0.44423017]), array([0.44956583]), array([0.20902112]), array([0.14687017]), array([0.14688029]), array([0.46159621]), array([0.40033607]), array([0.44785493]), array([0.15233971]), array([0.15458521]), array([0.25254385]), array([0.23213222]), array([0.46090067]), array([0.15687951]), array([0.38069636]), array([0.17087964]), array([0.30834934]), array([0.45011871]), array([0.44980984]), array([0.20198576]), array([0.1577252]), array([0.42075219]), array([0.33010336]), array([0.15848181]), array([0.15132979]), array([0.46972236]), array([0.45531377]), array([0.15542087]), array([0.38958772]), array([0.46289358]), array([0.16262887]), array([0.46735368]), array([0.34202129]), array([0.15081659]), array([0.45158517]), array([0.35458268]), array([0.23907616]), array([0.2301542]), array([0.35837277]), array([0.17573394]), array([0.15235439]), array([0.14711529]), array([0.45424301]), array([0.15713579]), array([0.37145881]), array([0.45604921]), array([0.46131137]), array([0.20412417])]\n",
      "2\n",
      "[array([0.30687303]), array([0.20599408]), array([0.16045965]), array([0.28042326]), array([0.37527825]), array([0.2871072]), array([0.28715338]), array([0.23419147]), array([0.01457468]), array([0.28622045]), array([0.29720174]), array([0.30081571]), array([0.42048848]), array([0.40100774]), array([0.23720222]), array([0.30442059]), array([0.42891614]), array([0.32526163]), array([0.45389268]), array([0.278516]), array([0.2795836]), array([0.36674058]), array([0.30573167]), array([0.05253483]), array([0.45648931]), array([0.299036]), array([0.29080379]), array([0.1932169]), array([0.25969382]), array([0.29547462]), array([0.41792156]), array([0.22842153]), array([0.31318374]), array([0.20662251]), array([0.45466923]), array([0.29468095]), array([0.273373]), array([0.39904559]), array([0.00141627]), array([0.39895131]), array([0.39633291]), array([0.3321401]), array([0.29722572]), array([0.28784863]), array([0.26371693]), array([0.30481883]), array([0.01869261]), array([0.25688263]), array([0.23543106]), array([0.36936906])]\n",
      "2\n",
      "[array([0.55403353]), array([0.00025307]), array([0.00032717]), array([0.00148653]), array([0.42290949]), array([0.61128291]), array([0.61126101]), array([0.00051602]), array([1.22055336e-09]), array([0.00168545]), array([0.59525583]), array([0.58851633]), array([0.29555255]), array([0.35410741]), array([0.00055487]), array([0.58160202]), array([0.03484938]), array([0.5390755]), array([0.1537429]), array([0.00142596]), array([0.00145958]), array([0.44419909]), array([0.57904771]), array([2.3952714e-06]), array([0.10885072]), array([0.57482203]), array([0.59701057]), array([0.00017912]), array([0.0009378]), array([0.58429941]), array([0.02660029]), array([0.00044823]), array([0.56419123]), array([0.00025731]), array([0.08738493]), array([0.59980495]), array([0.00127369]), array([0.07068658]), array([9.7555345e-13]), array([0.35990823]), array([0.06500175]), array([0.52425868]), array([0.59521189]), array([0.610647]), array([0.00102711]), array([0.58082824]), array([3.34670268e-08]), array([0.00087963]), array([0.00053171]), array([0.43771586])]\n",
      "AAAAAAAAAAAA\n",
      "[array([0.19648604]), array([0.21781523]), array([0.30395416]), array([0.28872095]), array([0.25531807])]\n",
      "3\n",
      "[array([0.03061762]), array([0.09620892]), array([0.10969824]), array([0.08788638]), array([0.02691708]), array([0.02448388]), array([0.02446351]), array([0.09346602]), array([0.10841028]), array([0.08708452]), array([0.0235943]), array([0.02356687]), array([0.03138839]), array([0.02912578]), array([0.09314492]), array([0.02358316]), array([0.05803986]), array([0.02412071]), array([0.03957279]), array([0.08814503]), array([0.08800056]), array([0.02631524]), array([0.02359723]), array([0.11527532]), array([0.04390604]), array([0.02890424]), array([0.02684466]), array([0.09730323]), array([0.09056342]), array([0.02807104]), array([0.06126864]), array([0.09406576]), array([0.02373821]), array([0.0961528]), array([0.04666271]), array([0.02365193]), array([0.0888299]), array([0.07943932]), array([0.1278646]), array([0.02892266]), array([0.08063935]), array([0.02439966]), array([0.02359393]), array([0.02424802]), array([0.09006672]), array([0.02358702]), array([0.11905495]), array([0.09090409]), array([0.09333449]), array([0.02649464])]\n",
      "3\n",
      "[array([0.03590214]), array([0.11828889]), array([0.13599228]), array([0.10740385]), array([0.03149312]), array([0.02859186]), array([0.02856769]), array([0.11468717]), array([0.13445243]), array([0.10636194]), array([0.02753788]), array([0.02750569]), array([0.03684106]), array([0.03413076]), array([0.11426644]), array([0.02752531]), array([0.06942098]), array([0.02816455]), array([0.04671641]), array([0.10774019]), array([0.10755232]), array([0.03077576]), array([0.02754211]), array([0.14342411]), array([0.05199095]), array([0.03385365]), array([0.03139779]), array([0.1197297]), array([0.11089102]), array([0.03285928]), array([0.07345205]), array([0.1154735]), array([0.02770989]), array([0.11821506]), array([0.05536322]), array([0.02760596]), array([0.10863137]), array([0.09638871]), array([0.16037043]), array([0.03388785]), array([0.09792855]), array([0.02849612]), array([0.02753744]), array([0.02831212]), array([0.11024299]), array([0.02752993]), array([0.14848185]), array([0.11133575]), array([0.11451482]), array([0.03098953])]\n",
      "3\n",
      "[array([0.07554892]), array([0.26440208]), array([0.30202227]), array([0.23840399]), array([0.06633339]), array([0.05998081]), array([0.05992978]), array([0.25578009]), array([0.30155916]), array([0.23592787]), array([0.05777158]), array([0.05771049]), array([0.07790664]), array([0.07203274]), array([0.25477371]), array([0.05775897]), array([0.15015791]), array([0.05915298]), array([0.09947932]), array([0.23920389]), array([0.23875704]), array([0.06478575]), array([0.05779703]), array([0.31770121]), array([0.1111162]), array([0.07116787]), array([0.06593263]), array([0.26785145]), array([0.24671007]), array([0.06904577]), array([0.15931745]), array([0.25766161]), array([0.05816649]), array([0.26422529]), array([0.11859904]), array([0.05791065]), array([0.24132462]), array([0.21009184]), array([0.35185644]), array([0.07150722]), array([0.21364439]), array([0.05986944]), array([0.0577707]), array([0.05939056]), array([0.24516447]), array([0.0577695]), array([0.32794738]), array([0.24777129]), array([0.2553678]), array([0.06524687])]\n",
      "3\n",
      "[array([0.17897345]), array([0.70809999]), array([0.73931181]), array([0.63301147]), array([0.15971252]), array([0.14237966]), array([0.14226307]), array([0.68365886]), array([0.75799404]), array([0.62573967]), array([0.13753115]), array([0.13747956]), array([0.18906438]), array([0.17414206]), array([0.68076113]), array([0.13768147]), array([0.38013224]), array([0.14144774]), array([0.24457002]), array([0.63535953]), array([0.6340479]), array([0.15579618]), array([0.13780232]), array([0.73671593]), array([0.27503456]), array([0.1685698]), array([0.15622051]), array([0.7175916]), array([0.65734454]), array([0.16355165]), array([0.40544589]), array([0.68905617]), array([0.13884603]), array([0.70760794]), array([0.2948293]), array([0.13779006]), array([0.64158131]), array([0.51909208]), array([0.69542279]), array([0.17281002]), array([0.5285132]), array([0.14329691]), array([0.13752972]), array([0.14103637]), array([0.65282745]), array([0.13771579]), array([0.7251994]), array([0.66044186]), array([0.68247257]), array([0.15696325])]\n",
      "3\n",
      "[array([0.85963482]), array([0.14783306]), array([0.02595082]), array([0.29507763]), array([0.87923423]), array([0.89238282]), array([0.89248667]), array([0.19846784]), array([0.00032497]), array([0.30814294]), array([0.89685902]), array([0.89698244]), array([0.85426465]), array([0.86710648]), array([0.20428196]), array([0.89688485]), array([0.66174488]), array([0.89406359]), array([0.80389473]), array([0.29081834]), array([0.29320004]), array([0.88247242]), array([0.89680812]), array([0.00132099]), array([0.77443907]), array([0.86907162]), array([0.88011838]), array([0.12731557]), array([0.24994081]), array([0.87357921]), array([0.63173108]), array([0.18753638]), array([0.89606221]), array([0.14888261]), array([0.75457017]), array([0.89657829]), array([0.27943486]), array([0.45520871]), array([2.04177022e-07]), array([0.86823828]), array([0.44060552]), array([0.89260612]), array([0.89686079]), array([0.89358258]), array([0.25849058]), array([0.89686362]), array([0.00010115]), array([0.24403161]), array([0.20085263]), array([0.88151004])]\n",
      "AAAAAAAAAAAA\n",
      "[array([0.05918437]), array([0.07188149]), array([0.15754609]), array([0.39600934]), array([0.56676901])]\n"
     ]
    }
   ],
   "source": [
    "I = 0\n",
    "mu = [1, 1, 1, 1,1]\n",
    "tau = [0.2, 0.2, 0.2, 0.2, 0.2]\n",
    "sigma = [1, 1, 1, 1, 1]\n",
    "\n",
    "while I<4 : \n",
    "    \n",
    "    for g in range(5) :\n",
    "        tau_cond = []\n",
    "        for i in range(len(point)) :\n",
    "            somme = 0\n",
    "            for k in range(5) : \n",
    "                somme = somme + tau[k]*gauss(point[i], mu[k], sigma[k])\n",
    "            tau_cond.append(tau[g]*gauss(point[i], mu[g], sigma[g])/somme)\n",
    "        print(I)\n",
    "        print(tau_cond)\n",
    "        tau[g] = sum(tau_cond)/len(point)\n",
    "        \n",
    "        multi = 0\n",
    "        for i in range(len(point)):\n",
    "            multi = multi+tau_cond[i]*point[i]\n",
    "        mu[g] = multi/sum(tau_cond)\n",
    "        \n",
    "        cov = 0\n",
    "        for i in range(len(point)):\n",
    "            cov = cov+tau_cond[i]*(point[i]-mu[g])**2\n",
    "        sigma[g] = cov/sum(tau_cond)\n",
    "    print(\"AAAAAAAAAAAA\")\n",
    "    print(tau)\n",
    "    I = I+1\n",
    "\n",
    "\n",
    "        \n",
    "    "
   ]
  },
  {
   "cell_type": "code",
   "execution_count": 110,
   "id": "50679cfb",
   "metadata": {},
   "outputs": [
    {
     "data": {
      "text/plain": [
       "[array([0.05918437]),\n",
       " array([0.07188149]),\n",
       " array([0.15754609]),\n",
       " array([0.39600934]),\n",
       " array([0.56676901])]"
      ]
     },
     "execution_count": 110,
     "metadata": {},
     "output_type": "execute_result"
    }
   ],
   "source": [
    "tau"
   ]
  },
  {
   "cell_type": "code",
   "execution_count": 111,
   "id": "9027db19",
   "metadata": {},
   "outputs": [
    {
     "data": {
      "text/plain": [
       "[array([75.16806525]),\n",
       " array([76.66528877]),\n",
       " array([77.30081275]),\n",
       " array([71.44180498]),\n",
       " array([12.05722521])]"
      ]
     },
     "execution_count": 111,
     "metadata": {},
     "output_type": "execute_result"
    }
   ],
   "source": [
    "sigma"
   ]
  },
  {
   "cell_type": "code",
   "execution_count": 71,
   "id": "eb5e5b7c",
   "metadata": {},
   "outputs": [
    {
     "data": {
      "text/plain": [
       "array([0.30922452])"
      ]
     },
     "execution_count": 71,
     "metadata": {},
     "output_type": "execute_result"
    }
   ],
   "source": [
    "g = 0\n",
    "for i in range(len(point)) :\n",
    "            somme = 0\n",
    "            for g in range(5) : \n",
    "                somme = somme + tau[g]*gauss(point[i], mu[g], sigma[g])\n",
    "            tau_cond.append(tau[g]*gauss(point[i], mu[g], sigma[g])/somme)\n",
    "a = sum(tau_cond)/len(point)\n",
    "a"
   ]
  },
  {
   "cell_type": "markdown",
   "id": "90e98175",
   "metadata": {},
   "source": [
    "#### Question 3:\n",
    "\n",
    "Test your EM algorithm on simulated data and show the evolution of the Gaussian mixture estimates as the number of iterations increases."
   ]
  },
  {
   "cell_type": "code",
   "execution_count": 12,
   "id": "efae020a",
   "metadata": {},
   "outputs": [],
   "source": [
    "## Code goes here\n",
    "## %load solutions/question3.py"
   ]
  },
  {
   "cell_type": "markdown",
   "id": "209742ad",
   "metadata": {},
   "source": [
    "#### Question 4:\n",
    "\n",
    "Modify your EM algorithm so that it also outputs the conditional membership probabilities\n",
    "\n",
    "$$ t_g(y) = \\Pr(Z = g \\mid Y = y), \\qquad y \\in \\mathcal{Y}, \\quad g \\in \\{1, \\ldots, G\\},$$\n",
    "\n",
    "and, based on your simulated data, predict the class of each observation using maximum a posteriori.\n",
    "\n",
    "You may consider plotting the data with colors depending on the estimated component, the fitted mixture density and each individuals gaussian densities."
   ]
  },
  {
   "cell_type": "code",
   "execution_count": 15,
   "id": "97510132",
   "metadata": {},
   "outputs": [],
   "source": [
    "## Code goes here\n",
    "## %load solutions/question4.py"
   ]
  },
  {
   "cell_type": "markdown",
   "id": "6c18e9e9",
   "metadata": {},
   "source": [
    "#### Question 5:\n",
    "\n",
    "Write a function that predict the class of new observations."
   ]
  },
  {
   "cell_type": "code",
   "execution_count": 18,
   "id": "a21a3e3e",
   "metadata": {},
   "outputs": [],
   "source": [
    "## Code goes here\n",
    "## %load solutions/question5.py"
   ]
  },
  {
   "cell_type": "markdown",
   "id": "4ebef602",
   "metadata": {},
   "source": [
    "#### Question 6:\n",
    "\n",
    "Have a look at the [GaussianMixture](https://scikit-learn.org/stable/modules/generated/sklearn.mixture.GaussianMixture.html) function of the scikitlearn library and learn how to use it. \n",
    "\n",
    "Use it on your simulated dataset and compare the output from that of your own function. You may want to:\n",
    "  + redo the above graphics using the output of GaussianMixture;\n",
    "  + use the [confusion_matrix](https://scikit-learn.org/stable/modules/generated/sklearn.metrics.confusion_matrix.html) function.\n",
    "  \n",
    "Are you happy?"
   ]
  },
  {
   "cell_type": "code",
   "execution_count": 21,
   "id": "475870d8",
   "metadata": {},
   "outputs": [],
   "source": [
    "## Code goes here\n",
    "## %load solutions/question6.py"
   ]
  },
  {
   "cell_type": "markdown",
   "id": "521c8c3f",
   "metadata": {},
   "source": [
    "### Going multivariate\n",
    "\n",
    "#### Question 7:\n",
    "\n",
    "Have a look at the [make_blobs](https://scikit-learn.org/stable/modules/generated/sklearn.datasets.make_blobs.html) function which generate mixture from (very specific) Gaussian distributions. Use this function to generate a sample of size $n=100$ from a Gaussian mixture in $\\mathbb{R}^2$ with $G=4$ components."
   ]
  },
  {
   "cell_type": "code",
   "execution_count": 24,
   "id": "1ea697bf",
   "metadata": {},
   "outputs": [],
   "source": [
    "## Code goes here\n",
    "## %load solutions/question7.py"
   ]
  },
  {
   "cell_type": "markdown",
   "id": "2e9cd17c",
   "metadata": {},
   "source": [
    "#### Question 8:\n",
    "\n",
    "Use the GaussianMixture function to estimate a Gaussian mixture model on this sample. Give the mathematical details of the model you fit. Give a plot where you show the prediction class in $[-12, 12]^2$ and another plot where you plot the uncertainties in classification. "
   ]
  },
  {
   "cell_type": "code",
   "execution_count": 33,
   "id": "c5a18eb0",
   "metadata": {},
   "outputs": [],
   "source": [
    "## Code goes here\n",
    "## %load solutions/question8.py"
   ]
  },
  {
   "cell_type": "markdown",
   "id": "992b4c05",
   "metadata": {},
   "source": [
    "#### Question 9:\n",
    "\n",
    "Perform model selection by varying the number of mixture components and the covariance structure. Compare prediction from the top two competitive models."
   ]
  },
  {
   "cell_type": "code",
   "execution_count": 36,
   "id": "f193376e",
   "metadata": {},
   "outputs": [],
   "source": [
    "## Code goes here\n",
    "## %load solutions/question9.py"
   ]
  },
  {
   "cell_type": "markdown",
   "id": "9ae473f5",
   "metadata": {},
   "source": [
    "### Just for fun Image segmentation\n",
    "\n",
    "Here we will do a small application where we want to perform image segmentation using Gaussian mixture models. Here is a typical roadmap:\n",
    "  - First get the [first colored image of Mars sent by *Perseverance*](https://mars.nasa.gov/system/resources/detail_files/25612_PIA24430-panorama-1200.jpg) and import it.\n",
    "  - Then fit a suitable Gaussian mixture model. In doing so, you may want to train your model on a (random) sub-sample of this image.\n",
    "  - Plot the \"segmented\" image where you first plot using \"non-sense\" color palette, i.e., color palette is $\\{1, \\ldots, G\\}$.\n",
    "  - Refine your color platte by taking it to be $\\{\\mu_1, \\ldots, \\mu_G\\}$."
   ]
  },
  {
   "cell_type": "code",
   "execution_count": 35,
   "id": "acb11de8",
   "metadata": {},
   "outputs": [],
   "source": [
    "## Code goes here\n",
    "## %load solutions/justForFun.py"
   ]
  }
 ],
 "metadata": {
  "kernelspec": {
   "display_name": "Python 3 (ipykernel)",
   "language": "python",
   "name": "python3"
  },
  "language_info": {
   "codemirror_mode": {
    "name": "ipython",
    "version": 3
   },
   "file_extension": ".py",
   "mimetype": "text/x-python",
   "name": "python",
   "nbconvert_exporter": "python",
   "pygments_lexer": "ipython3",
   "version": "3.9.12"
  }
 },
 "nbformat": 4,
 "nbformat_minor": 5
}
