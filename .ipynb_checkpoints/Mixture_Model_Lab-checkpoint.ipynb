{
 "cells": [
  {
   "cell_type": "markdown",
   "id": "0AX1yk7sFFMW",
   "metadata": {
    "id": "0AX1yk7sFFMW",
    "tags": []
   },
   "source": [
    "## APST2 - Projet 2 - Classification avec des mélanges gaussiens\n",
    "\n",
    "Lors de ce projet, nous avons choisi d'étudier les données du premier tour des élections présidentielles de 2022."
   ]
  },
  {
   "cell_type": "markdown",
   "id": "rAZxZPw5FFMp",
   "metadata": {
    "id": "rAZxZPw5FFMp",
    "tags": []
   },
   "source": [
    "### Importation des données"
   ]
  },
  {
   "cell_type": "code",
   "execution_count": 1,
   "id": "5-n3VMocFFM3",
   "metadata": {
    "id": "5-n3VMocFFM3"
   },
   "outputs": [],
   "source": [
    "import numpy as np\n",
    "import pandas as pd\n",
    "import os\n",
    "import matplotlib.pyplot as plt"
   ]
  },
  {
   "cell_type": "markdown",
   "id": "KP6NoNCQFFM6",
   "metadata": {
    "id": "KP6NoNCQFFM6"
   },
   "source": [
    "Pour commencer, nous avons préparé la mise en forme des données sous la forme de tableau. Nous avons recopié les noms des colonnes attendus après le chargement des données :"
   ]
  },
  {
   "cell_type": "code",
   "execution_count": 2,
   "id": "9r_DSTrlFFM7",
   "metadata": {
    "colab": {
     "base_uri": "https://localhost:8080/"
    },
    "id": "9r_DSTrlFFM7",
    "outputId": "c0505741-31be-4085-deb8-131aab90a2b6"
   },
   "outputs": [
    {
     "data": {
      "text/plain": [
       "array(['Code de la région', 'Libellé de la région', 'Etat saisie',\n",
       "       'Inscrits', 'Abstentions', '% Abs/Ins', 'Votants', '% Vot/Ins',\n",
       "       'Blancs', '% Blancs/Ins', '% Blancs/Vot', 'Nuls', '% Nuls/Ins',\n",
       "       '% Nuls/Vot', 'Exprimés', '% Exp/Ins', '% Exp/Vot', 'Sexe 0',\n",
       "       'Nom 0', 'Prénom 0', 'Voix 0', '% Voix/Ins 0', '% Voix/Exp 0',\n",
       "       'Sexe 1', 'Nom 1', 'Prénom 1', 'Voix 1', '% Voix/Ins 1',\n",
       "       '% Voix/Exp 1', 'Sexe 2', 'Nom 2', 'Prénom 2', 'Voix 2',\n",
       "       '% Voix/Ins 2', '% Voix/Exp 2', 'Sexe 3', 'Nom 3', 'Prénom 3',\n",
       "       'Voix 3', '% Voix/Ins 3', '% Voix/Exp 3', 'Sexe 4', 'Nom 4',\n",
       "       'Prénom 4', 'Voix 4', '% Voix/Ins 4', '% Voix/Exp 4', 'Sexe 5',\n",
       "       'Nom 5', 'Prénom 5', 'Voix 5', '% Voix/Ins 5', '% Voix/Exp 5',\n",
       "       'Sexe 6', 'Nom 6', 'Prénom 6', 'Voix 6', '% Voix/Ins 6',\n",
       "       '% Voix/Exp 6', 'Sexe 7', 'Nom 7', 'Prénom 7', 'Voix 7',\n",
       "       '% Voix/Ins 7', '% Voix/Exp 7', 'Sexe 8', 'Nom 8', 'Prénom 8',\n",
       "       'Voix 8', '% Voix/Ins 8', '% Voix/Exp 8', 'Sexe 9', 'Nom 9',\n",
       "       'Prénom 9', 'Voix 9', '% Voix/Ins 9', '% Voix/Exp 9', 'Sexe 10',\n",
       "       'Nom 10', 'Prénom 10', 'Voix 10', '% Voix/Ins 10', '% Voix/Exp 10',\n",
       "       'Sexe 11', 'Nom 11', 'Prénom 11', 'Voix 11', '% Voix/Ins 11',\n",
       "       '% Voix/Exp 11'], dtype='<U20')"
      ]
     },
     "execution_count": 2,
     "metadata": {},
     "output_type": "execute_result"
    }
   ],
   "source": [
    "col_commun=['Code de la région','Libellé de la région','Etat saisie','Inscrits',\n",
    "     'Abstentions','% Abs/Ins','Votants','% Vot/Ins','Blancs','% Blancs/Ins',\n",
    "     '% Blancs/Vot','Nuls','% Nuls/Ins','% Nuls/Vot','Exprimés','% Exp/Ins',\n",
    "     '% Exp/Vot']\n",
    "col_spec=['Sexe','Nom','Prénom','Voix','% Voix/Ins','% Voix/Exp']\n",
    "\n",
    "nom_cols = []\n",
    "for i in range(89):\n",
    "    if i < len(col_commun):\n",
    "        nom = col_commun[i]\n",
    "    else:\n",
    "        j = (i-len(col_commun)) % len(col_spec)\n",
    "        k = (i-len(col_commun)) // len(col_spec)\n",
    "        nom = col_spec[j] + \" \" + str(k)\n",
    "    nom_cols.append(nom)\n",
    "np.array(nom_cols)"
   ]
  },
  {
   "cell_type": "markdown",
   "id": "yoTF03BJFFM_",
   "metadata": {
    "id": "yoTF03BJFFM_"
   },
   "source": [
    "Pour simplifier, on choisit de noter : Abs pour le nombre d'absents, Ins pour le nombre d'inscrits, Vot pour le nombre de votants, Blancs pour le nombre de votes blancs, Nuls pour le nombre de votes nuls et Exp pour le nombre de votes exprimés."
   ]
  },
  {
   "cell_type": "code",
   "execution_count": 3,
   "id": "rUis4HFJFFNB",
   "metadata": {
    "id": "rUis4HFJFFNB"
   },
   "outputs": [],
   "source": [
    "url = \"https://www.data.gouv.fr/fr/datasets/r/cbf026c5-e0bf-4ff8-b1cd-eb994cd26290\"\n",
    "\n",
    "data = pd.read_csv(url, sep=\";\",encoding=\"latin\", header=0, names=nom_cols)\n",
    "data2 = data[['% Abs/Ins', '% Vot/Ins',\n",
    "       '% Blancs/Ins', '% Blancs/Vot', '% Nuls/Ins',\n",
    "       '% Nuls/Vot', '% Exp/Ins', '% Exp/Vot', '% Voix/Ins 0', '% Voix/Exp 0',\n",
    "       '% Voix/Ins 1', '% Voix/Exp 1',\n",
    "       '% Voix/Ins 2', '% Voix/Exp 2',\n",
    "       '% Voix/Ins 3', '% Voix/Exp 3',\n",
    "       '% Voix/Ins 4', '% Voix/Exp 4', \n",
    "       '% Voix/Ins 5', '% Voix/Exp 5',\n",
    "       '% Voix/Ins 6', '% Voix/Exp 6',\n",
    "       '% Voix/Ins 7', '% Voix/Exp 7', \n",
    "       '% Voix/Ins 8', '% Voix/Exp 8', \n",
    "       '% Voix/Ins 9', '% Voix/Exp 9', \n",
    "       '% Voix/Ins 10', '% Voix/Exp 10',\n",
    "       '% Voix/Ins 11', '% Voix/Exp 11']].stack().str.replace(',','.').unstack()"
   ]
  },
  {
   "cell_type": "markdown",
   "id": "QdPH_njkFFNE",
   "metadata": {
    "id": "QdPH_njkFFNE"
   },
   "source": [
    "Après la lecture des données, on garde les colonnes que nous allons étudier dans le tableau data 2 :"
   ]
  },
  {
   "cell_type": "code",
   "execution_count": 4,
   "id": "MTpVi9CYFFNG",
   "metadata": {
    "colab": {
     "base_uri": "https://localhost:8080/",
     "height": 742
    },
    "id": "MTpVi9CYFFNG",
    "outputId": "ad54e25c-ad46-4400-8565-32dbf7995663"
   },
   "outputs": [
    {
     "data": {
      "text/html": [
       "<div>\n",
       "<style scoped>\n",
       "    .dataframe tbody tr th:only-of-type {\n",
       "        vertical-align: middle;\n",
       "    }\n",
       "\n",
       "    .dataframe tbody tr th {\n",
       "        vertical-align: top;\n",
       "    }\n",
       "\n",
       "    .dataframe thead th {\n",
       "        text-align: right;\n",
       "    }\n",
       "</style>\n",
       "<table border=\"1\" class=\"dataframe\">\n",
       "  <thead>\n",
       "    <tr style=\"text-align: right;\">\n",
       "      <th></th>\n",
       "      <th>% Abs/Ins</th>\n",
       "      <th>% Vot/Ins</th>\n",
       "      <th>% Blancs/Ins</th>\n",
       "      <th>% Blancs/Vot</th>\n",
       "      <th>% Nuls/Ins</th>\n",
       "      <th>% Nuls/Vot</th>\n",
       "      <th>% Exp/Ins</th>\n",
       "      <th>% Exp/Vot</th>\n",
       "      <th>% Voix/Ins 0</th>\n",
       "      <th>% Voix/Exp 0</th>\n",
       "      <th>...</th>\n",
       "      <th>% Voix/Ins 7</th>\n",
       "      <th>% Voix/Exp 7</th>\n",
       "      <th>% Voix/Ins 8</th>\n",
       "      <th>% Voix/Exp 8</th>\n",
       "      <th>% Voix/Ins 9</th>\n",
       "      <th>% Voix/Exp 9</th>\n",
       "      <th>% Voix/Ins 10</th>\n",
       "      <th>% Voix/Exp 10</th>\n",
       "      <th>% Voix/Ins 11</th>\n",
       "      <th>% Voix/Exp 11</th>\n",
       "    </tr>\n",
       "  </thead>\n",
       "  <tbody>\n",
       "    <tr>\n",
       "      <th>0</th>\n",
       "      <td>26.10</td>\n",
       "      <td>73.90</td>\n",
       "      <td>1.09</td>\n",
       "      <td>1.48</td>\n",
       "      <td>0.48</td>\n",
       "      <td>0.65</td>\n",
       "      <td>72.32</td>\n",
       "      <td>97.87</td>\n",
       "      <td>0.48</td>\n",
       "      <td>0.67</td>\n",
       "      <td>...</td>\n",
       "      <td>1.04</td>\n",
       "      <td>1.43</td>\n",
       "      <td>2.90</td>\n",
       "      <td>4.01</td>\n",
       "      <td>3.13</td>\n",
       "      <td>4.33</td>\n",
       "      <td>0.58</td>\n",
       "      <td>0.80</td>\n",
       "      <td>1.94</td>\n",
       "      <td>2.68</td>\n",
       "    </tr>\n",
       "    <tr>\n",
       "      <th>1</th>\n",
       "      <td>21.57</td>\n",
       "      <td>78.43</td>\n",
       "      <td>1.20</td>\n",
       "      <td>1.53</td>\n",
       "      <td>0.61</td>\n",
       "      <td>0.77</td>\n",
       "      <td>76.63</td>\n",
       "      <td>97.70</td>\n",
       "      <td>0.41</td>\n",
       "      <td>0.54</td>\n",
       "      <td>...</td>\n",
       "      <td>1.73</td>\n",
       "      <td>2.26</td>\n",
       "      <td>3.40</td>\n",
       "      <td>4.44</td>\n",
       "      <td>3.52</td>\n",
       "      <td>4.60</td>\n",
       "      <td>0.73</td>\n",
       "      <td>0.95</td>\n",
       "      <td>1.52</td>\n",
       "      <td>1.98</td>\n",
       "    </tr>\n",
       "    <tr>\n",
       "      <th>2</th>\n",
       "      <td>22.10</td>\n",
       "      <td>77.90</td>\n",
       "      <td>1.26</td>\n",
       "      <td>1.62</td>\n",
       "      <td>0.46</td>\n",
       "      <td>0.59</td>\n",
       "      <td>76.18</td>\n",
       "      <td>97.79</td>\n",
       "      <td>0.42</td>\n",
       "      <td>0.55</td>\n",
       "      <td>...</td>\n",
       "      <td>1.40</td>\n",
       "      <td>1.83</td>\n",
       "      <td>4.04</td>\n",
       "      <td>5.31</td>\n",
       "      <td>3.92</td>\n",
       "      <td>5.15</td>\n",
       "      <td>0.55</td>\n",
       "      <td>0.72</td>\n",
       "      <td>1.77</td>\n",
       "      <td>2.33</td>\n",
       "    </tr>\n",
       "    <tr>\n",
       "      <th>3</th>\n",
       "      <td>22.92</td>\n",
       "      <td>77.08</td>\n",
       "      <td>1.32</td>\n",
       "      <td>1.72</td>\n",
       "      <td>0.58</td>\n",
       "      <td>0.76</td>\n",
       "      <td>75.17</td>\n",
       "      <td>97.52</td>\n",
       "      <td>0.53</td>\n",
       "      <td>0.71</td>\n",
       "      <td>...</td>\n",
       "      <td>1.33</td>\n",
       "      <td>1.77</td>\n",
       "      <td>3.02</td>\n",
       "      <td>4.02</td>\n",
       "      <td>3.85</td>\n",
       "      <td>5.12</td>\n",
       "      <td>0.64</td>\n",
       "      <td>0.85</td>\n",
       "      <td>1.94</td>\n",
       "      <td>2.58</td>\n",
       "    </tr>\n",
       "    <tr>\n",
       "      <th>4</th>\n",
       "      <td>21.21</td>\n",
       "      <td>78.79</td>\n",
       "      <td>1.24</td>\n",
       "      <td>1.58</td>\n",
       "      <td>0.52</td>\n",
       "      <td>0.66</td>\n",
       "      <td>77.03</td>\n",
       "      <td>97.76</td>\n",
       "      <td>0.51</td>\n",
       "      <td>0.66</td>\n",
       "      <td>...</td>\n",
       "      <td>1.70</td>\n",
       "      <td>2.21</td>\n",
       "      <td>4.77</td>\n",
       "      <td>6.19</td>\n",
       "      <td>3.62</td>\n",
       "      <td>4.70</td>\n",
       "      <td>0.78</td>\n",
       "      <td>1.01</td>\n",
       "      <td>1.37</td>\n",
       "      <td>1.78</td>\n",
       "    </tr>\n",
       "    <tr>\n",
       "      <th>5</th>\n",
       "      <td>25.01</td>\n",
       "      <td>74.99</td>\n",
       "      <td>1.26</td>\n",
       "      <td>1.69</td>\n",
       "      <td>0.51</td>\n",
       "      <td>0.68</td>\n",
       "      <td>73.22</td>\n",
       "      <td>97.64</td>\n",
       "      <td>0.50</td>\n",
       "      <td>0.69</td>\n",
       "      <td>...</td>\n",
       "      <td>1.26</td>\n",
       "      <td>1.72</td>\n",
       "      <td>2.96</td>\n",
       "      <td>4.04</td>\n",
       "      <td>3.90</td>\n",
       "      <td>5.33</td>\n",
       "      <td>0.61</td>\n",
       "      <td>0.83</td>\n",
       "      <td>1.73</td>\n",
       "      <td>2.36</td>\n",
       "    </tr>\n",
       "    <tr>\n",
       "      <th>6</th>\n",
       "      <td>23.96</td>\n",
       "      <td>76.04</td>\n",
       "      <td>1.04</td>\n",
       "      <td>1.37</td>\n",
       "      <td>0.38</td>\n",
       "      <td>0.50</td>\n",
       "      <td>74.62</td>\n",
       "      <td>98.13</td>\n",
       "      <td>0.30</td>\n",
       "      <td>0.40</td>\n",
       "      <td>...</td>\n",
       "      <td>1.07</td>\n",
       "      <td>1.43</td>\n",
       "      <td>4.03</td>\n",
       "      <td>5.40</td>\n",
       "      <td>4.62</td>\n",
       "      <td>6.19</td>\n",
       "      <td>0.45</td>\n",
       "      <td>0.60</td>\n",
       "      <td>1.19</td>\n",
       "      <td>1.59</td>\n",
       "    </tr>\n",
       "    <tr>\n",
       "      <th>7</th>\n",
       "      <td>21.75</td>\n",
       "      <td>78.25</td>\n",
       "      <td>1.11</td>\n",
       "      <td>1.42</td>\n",
       "      <td>0.58</td>\n",
       "      <td>0.74</td>\n",
       "      <td>76.57</td>\n",
       "      <td>97.85</td>\n",
       "      <td>0.34</td>\n",
       "      <td>0.45</td>\n",
       "      <td>...</td>\n",
       "      <td>1.78</td>\n",
       "      <td>2.33</td>\n",
       "      <td>3.22</td>\n",
       "      <td>4.20</td>\n",
       "      <td>2.99</td>\n",
       "      <td>3.90</td>\n",
       "      <td>0.55</td>\n",
       "      <td>0.72</td>\n",
       "      <td>1.46</td>\n",
       "      <td>1.91</td>\n",
       "    </tr>\n",
       "    <tr>\n",
       "      <th>8</th>\n",
       "      <td>26.94</td>\n",
       "      <td>73.06</td>\n",
       "      <td>1.01</td>\n",
       "      <td>1.38</td>\n",
       "      <td>0.57</td>\n",
       "      <td>0.78</td>\n",
       "      <td>71.48</td>\n",
       "      <td>97.84</td>\n",
       "      <td>0.49</td>\n",
       "      <td>0.69</td>\n",
       "      <td>...</td>\n",
       "      <td>0.96</td>\n",
       "      <td>1.34</td>\n",
       "      <td>2.24</td>\n",
       "      <td>3.13</td>\n",
       "      <td>2.53</td>\n",
       "      <td>3.53</td>\n",
       "      <td>0.50</td>\n",
       "      <td>0.69</td>\n",
       "      <td>1.30</td>\n",
       "      <td>1.82</td>\n",
       "    </tr>\n",
       "    <tr>\n",
       "      <th>9</th>\n",
       "      <td>24.48</td>\n",
       "      <td>75.52</td>\n",
       "      <td>1.20</td>\n",
       "      <td>1.59</td>\n",
       "      <td>0.44</td>\n",
       "      <td>0.58</td>\n",
       "      <td>73.89</td>\n",
       "      <td>97.83</td>\n",
       "      <td>0.53</td>\n",
       "      <td>0.72</td>\n",
       "      <td>...</td>\n",
       "      <td>1.25</td>\n",
       "      <td>1.70</td>\n",
       "      <td>3.04</td>\n",
       "      <td>4.11</td>\n",
       "      <td>3.31</td>\n",
       "      <td>4.47</td>\n",
       "      <td>0.66</td>\n",
       "      <td>0.90</td>\n",
       "      <td>1.60</td>\n",
       "      <td>2.16</td>\n",
       "    </tr>\n",
       "    <tr>\n",
       "      <th>10</th>\n",
       "      <td>23.02</td>\n",
       "      <td>76.98</td>\n",
       "      <td>1.37</td>\n",
       "      <td>1.79</td>\n",
       "      <td>0.51</td>\n",
       "      <td>0.67</td>\n",
       "      <td>75.10</td>\n",
       "      <td>97.55</td>\n",
       "      <td>0.49</td>\n",
       "      <td>0.65</td>\n",
       "      <td>...</td>\n",
       "      <td>1.53</td>\n",
       "      <td>2.03</td>\n",
       "      <td>4.52</td>\n",
       "      <td>6.01</td>\n",
       "      <td>3.77</td>\n",
       "      <td>5.02</td>\n",
       "      <td>0.65</td>\n",
       "      <td>0.87</td>\n",
       "      <td>1.56</td>\n",
       "      <td>2.08</td>\n",
       "    </tr>\n",
       "    <tr>\n",
       "      <th>11</th>\n",
       "      <td>26.19</td>\n",
       "      <td>73.81</td>\n",
       "      <td>0.98</td>\n",
       "      <td>1.33</td>\n",
       "      <td>0.42</td>\n",
       "      <td>0.57</td>\n",
       "      <td>72.41</td>\n",
       "      <td>98.10</td>\n",
       "      <td>0.26</td>\n",
       "      <td>0.36</td>\n",
       "      <td>...</td>\n",
       "      <td>0.81</td>\n",
       "      <td>1.11</td>\n",
       "      <td>2.94</td>\n",
       "      <td>4.06</td>\n",
       "      <td>3.17</td>\n",
       "      <td>4.38</td>\n",
       "      <td>0.44</td>\n",
       "      <td>0.61</td>\n",
       "      <td>1.64</td>\n",
       "      <td>2.27</td>\n",
       "    </tr>\n",
       "    <tr>\n",
       "      <th>12</th>\n",
       "      <td>37.29</td>\n",
       "      <td>62.71</td>\n",
       "      <td>1.07</td>\n",
       "      <td>1.70</td>\n",
       "      <td>1.00</td>\n",
       "      <td>1.60</td>\n",
       "      <td>60.64</td>\n",
       "      <td>96.70</td>\n",
       "      <td>0.19</td>\n",
       "      <td>0.31</td>\n",
       "      <td>...</td>\n",
       "      <td>0.65</td>\n",
       "      <td>1.07</td>\n",
       "      <td>1.97</td>\n",
       "      <td>3.25</td>\n",
       "      <td>3.84</td>\n",
       "      <td>6.33</td>\n",
       "      <td>0.56</td>\n",
       "      <td>0.93</td>\n",
       "      <td>1.07</td>\n",
       "      <td>1.76</td>\n",
       "    </tr>\n",
       "    <tr>\n",
       "      <th>13</th>\n",
       "      <td>55.25</td>\n",
       "      <td>44.75</td>\n",
       "      <td>0.86</td>\n",
       "      <td>1.92</td>\n",
       "      <td>1.15</td>\n",
       "      <td>2.56</td>\n",
       "      <td>42.75</td>\n",
       "      <td>95.51</td>\n",
       "      <td>0.34</td>\n",
       "      <td>0.80</td>\n",
       "      <td>...</td>\n",
       "      <td>0.72</td>\n",
       "      <td>1.68</td>\n",
       "      <td>0.61</td>\n",
       "      <td>1.43</td>\n",
       "      <td>1.26</td>\n",
       "      <td>2.95</td>\n",
       "      <td>0.23</td>\n",
       "      <td>0.53</td>\n",
       "      <td>0.67</td>\n",
       "      <td>1.56</td>\n",
       "    </tr>\n",
       "    <tr>\n",
       "      <th>14</th>\n",
       "      <td>57.32</td>\n",
       "      <td>42.68</td>\n",
       "      <td>1.31</td>\n",
       "      <td>3.08</td>\n",
       "      <td>1.00</td>\n",
       "      <td>2.35</td>\n",
       "      <td>40.36</td>\n",
       "      <td>94.57</td>\n",
       "      <td>0.48</td>\n",
       "      <td>1.18</td>\n",
       "      <td>...</td>\n",
       "      <td>1.29</td>\n",
       "      <td>3.20</td>\n",
       "      <td>0.65</td>\n",
       "      <td>1.61</td>\n",
       "      <td>1.55</td>\n",
       "      <td>3.85</td>\n",
       "      <td>0.32</td>\n",
       "      <td>0.79</td>\n",
       "      <td>0.98</td>\n",
       "      <td>2.43</td>\n",
       "    </tr>\n",
       "    <tr>\n",
       "      <th>15</th>\n",
       "      <td>63.84</td>\n",
       "      <td>36.16</td>\n",
       "      <td>0.80</td>\n",
       "      <td>2.22</td>\n",
       "      <td>0.54</td>\n",
       "      <td>1.49</td>\n",
       "      <td>34.82</td>\n",
       "      <td>96.30</td>\n",
       "      <td>0.29</td>\n",
       "      <td>0.83</td>\n",
       "      <td>...</td>\n",
       "      <td>0.52</td>\n",
       "      <td>1.49</td>\n",
       "      <td>0.91</td>\n",
       "      <td>2.62</td>\n",
       "      <td>0.97</td>\n",
       "      <td>2.78</td>\n",
       "      <td>0.45</td>\n",
       "      <td>1.29</td>\n",
       "      <td>0.70</td>\n",
       "      <td>2.00</td>\n",
       "    </tr>\n",
       "    <tr>\n",
       "      <th>16</th>\n",
       "      <td>46.36</td>\n",
       "      <td>53.64</td>\n",
       "      <td>1.09</td>\n",
       "      <td>2.03</td>\n",
       "      <td>1.22</td>\n",
       "      <td>2.28</td>\n",
       "      <td>51.33</td>\n",
       "      <td>95.69</td>\n",
       "      <td>0.52</td>\n",
       "      <td>1.02</td>\n",
       "      <td>...</td>\n",
       "      <td>0.82</td>\n",
       "      <td>1.60</td>\n",
       "      <td>1.18</td>\n",
       "      <td>2.31</td>\n",
       "      <td>1.44</td>\n",
       "      <td>2.81</td>\n",
       "      <td>0.40</td>\n",
       "      <td>0.78</td>\n",
       "      <td>1.23</td>\n",
       "      <td>2.40</td>\n",
       "    </tr>\n",
       "    <tr>\n",
       "      <th>17</th>\n",
       "      <td>59.69</td>\n",
       "      <td>40.31</td>\n",
       "      <td>1.00</td>\n",
       "      <td>2.48</td>\n",
       "      <td>1.29</td>\n",
       "      <td>3.20</td>\n",
       "      <td>38.02</td>\n",
       "      <td>94.31</td>\n",
       "      <td>0.47</td>\n",
       "      <td>1.23</td>\n",
       "      <td>...</td>\n",
       "      <td>0.34</td>\n",
       "      <td>0.91</td>\n",
       "      <td>0.32</td>\n",
       "      <td>0.84</td>\n",
       "      <td>3.05</td>\n",
       "      <td>8.02</td>\n",
       "      <td>0.36</td>\n",
       "      <td>0.94</td>\n",
       "      <td>0.57</td>\n",
       "      <td>1.51</td>\n",
       "    </tr>\n",
       "  </tbody>\n",
       "</table>\n",
       "<p>18 rows × 32 columns</p>\n",
       "</div>"
      ],
      "text/plain": [
       "   % Abs/Ins % Vot/Ins % Blancs/Ins % Blancs/Vot % Nuls/Ins % Nuls/Vot  \\\n",
       "0      26.10     73.90         1.09         1.48       0.48       0.65   \n",
       "1      21.57     78.43         1.20         1.53       0.61       0.77   \n",
       "2      22.10     77.90         1.26         1.62       0.46       0.59   \n",
       "3      22.92     77.08         1.32         1.72       0.58       0.76   \n",
       "4      21.21     78.79         1.24         1.58       0.52       0.66   \n",
       "5      25.01     74.99         1.26         1.69       0.51       0.68   \n",
       "6      23.96     76.04         1.04         1.37       0.38       0.50   \n",
       "7      21.75     78.25         1.11         1.42       0.58       0.74   \n",
       "8      26.94     73.06         1.01         1.38       0.57       0.78   \n",
       "9      24.48     75.52         1.20         1.59       0.44       0.58   \n",
       "10     23.02     76.98         1.37         1.79       0.51       0.67   \n",
       "11     26.19     73.81         0.98         1.33       0.42       0.57   \n",
       "12     37.29     62.71         1.07         1.70       1.00       1.60   \n",
       "13     55.25     44.75         0.86         1.92       1.15       2.56   \n",
       "14     57.32     42.68         1.31         3.08       1.00       2.35   \n",
       "15     63.84     36.16         0.80         2.22       0.54       1.49   \n",
       "16     46.36     53.64         1.09         2.03       1.22       2.28   \n",
       "17     59.69     40.31         1.00         2.48       1.29       3.20   \n",
       "\n",
       "   % Exp/Ins % Exp/Vot % Voix/Ins 0 % Voix/Exp 0  ... % Voix/Ins 7  \\\n",
       "0      72.32     97.87         0.48         0.67  ...         1.04   \n",
       "1      76.63     97.70         0.41         0.54  ...         1.73   \n",
       "2      76.18     97.79         0.42         0.55  ...         1.40   \n",
       "3      75.17     97.52         0.53         0.71  ...         1.33   \n",
       "4      77.03     97.76         0.51         0.66  ...         1.70   \n",
       "5      73.22     97.64         0.50         0.69  ...         1.26   \n",
       "6      74.62     98.13         0.30         0.40  ...         1.07   \n",
       "7      76.57     97.85         0.34         0.45  ...         1.78   \n",
       "8      71.48     97.84         0.49         0.69  ...         0.96   \n",
       "9      73.89     97.83         0.53         0.72  ...         1.25   \n",
       "10     75.10     97.55         0.49         0.65  ...         1.53   \n",
       "11     72.41     98.10         0.26         0.36  ...         0.81   \n",
       "12     60.64     96.70         0.19         0.31  ...         0.65   \n",
       "13     42.75     95.51         0.34         0.80  ...         0.72   \n",
       "14     40.36     94.57         0.48         1.18  ...         1.29   \n",
       "15     34.82     96.30         0.29         0.83  ...         0.52   \n",
       "16     51.33     95.69         0.52         1.02  ...         0.82   \n",
       "17     38.02     94.31         0.47         1.23  ...         0.34   \n",
       "\n",
       "   % Voix/Exp 7 % Voix/Ins 8 % Voix/Exp 8 % Voix/Ins 9 % Voix/Exp 9  \\\n",
       "0          1.43         2.90         4.01         3.13         4.33   \n",
       "1          2.26         3.40         4.44         3.52         4.60   \n",
       "2          1.83         4.04         5.31         3.92         5.15   \n",
       "3          1.77         3.02         4.02         3.85         5.12   \n",
       "4          2.21         4.77         6.19         3.62         4.70   \n",
       "5          1.72         2.96         4.04         3.90         5.33   \n",
       "6          1.43         4.03         5.40         4.62         6.19   \n",
       "7          2.33         3.22         4.20         2.99         3.90   \n",
       "8          1.34         2.24         3.13         2.53         3.53   \n",
       "9          1.70         3.04         4.11         3.31         4.47   \n",
       "10         2.03         4.52         6.01         3.77         5.02   \n",
       "11         1.11         2.94         4.06         3.17         4.38   \n",
       "12         1.07         1.97         3.25         3.84         6.33   \n",
       "13         1.68         0.61         1.43         1.26         2.95   \n",
       "14         3.20         0.65         1.61         1.55         3.85   \n",
       "15         1.49         0.91         2.62         0.97         2.78   \n",
       "16         1.60         1.18         2.31         1.44         2.81   \n",
       "17         0.91         0.32         0.84         3.05         8.02   \n",
       "\n",
       "   % Voix/Ins 10 % Voix/Exp 10 % Voix/Ins 11 % Voix/Exp 11  \n",
       "0           0.58          0.80          1.94          2.68  \n",
       "1           0.73          0.95          1.52          1.98  \n",
       "2           0.55          0.72          1.77          2.33  \n",
       "3           0.64          0.85          1.94          2.58  \n",
       "4           0.78          1.01          1.37          1.78  \n",
       "5           0.61          0.83          1.73          2.36  \n",
       "6           0.45          0.60          1.19          1.59  \n",
       "7           0.55          0.72          1.46          1.91  \n",
       "8           0.50          0.69          1.30          1.82  \n",
       "9           0.66          0.90          1.60          2.16  \n",
       "10          0.65          0.87          1.56          2.08  \n",
       "11          0.44          0.61          1.64          2.27  \n",
       "12          0.56          0.93          1.07          1.76  \n",
       "13          0.23          0.53          0.67          1.56  \n",
       "14          0.32          0.79          0.98          2.43  \n",
       "15          0.45          1.29          0.70          2.00  \n",
       "16          0.40          0.78          1.23          2.40  \n",
       "17          0.36          0.94          0.57          1.51  \n",
       "\n",
       "[18 rows x 32 columns]"
      ]
     },
     "execution_count": 4,
     "metadata": {},
     "output_type": "execute_result"
    }
   ],
   "source": [
    "data2"
   ]
  },
  {
   "cell_type": "markdown",
   "id": "Gvgdx4xNFFNJ",
   "metadata": {
    "id": "Gvgdx4xNFFNJ"
   },
   "source": [
    "Les données sont réparties sur 18 lignes correspondant aux régions françaises. On a gardé les pourcentages généraux sur les élections dans chaque région (colonnes 0 à 7) puis le pourcentage de voix de chaque candidat (candidat 0 à 11) par rapport au nombre total d'inscrits et de votes exprimés."
   ]
  },
  {
   "cell_type": "code",
   "execution_count": 5,
   "id": "FapMH0cOFFNK",
   "metadata": {
    "id": "FapMH0cOFFNK"
   },
   "outputs": [],
   "source": [
    "tp = data2.get([\"% Voix/Exp 0\", \"% Voix/Exp 1\", \"% Voix/Exp 2\", \"% Voix/Exp 3\", \"% Voix/Exp 4\", \"% Voix/Exp 5\", \"% Voix/Exp 6\",\n",
    "                \"% Voix/Exp 7\", \"% Voix/Exp 8\", \"% Voix/Exp 9\", \"% Voix/Exp 10\", \"% Voix/Exp 11\",\n",
    "               \"% Voix/Ins 0\", \"% Voix/Ins 1\", \"% Voix/Ins 2\", \"% Voix/Ins 3\", \"% Voix/Ins 4\", \"% Voix/Ins 5\", \"% Voix/Ins 6\",\n",
    "                \"% Voix/Ins 7\", \"% Voix/Ins 8\", \"% Voix/Ins 9\", \"% Voix/Ins 10\", \"% Voix/Ins 11\"])\n",
    "tp2 = data2.get([\"% Voix/Exp 0\", \"% Voix/Ins 0\",\n",
    "                \"% Voix/Exp 1\", \"% Voix/Ins 1\",\n",
    "                \"% Voix/Exp 2\", \"% Voix/Ins 2\",\n",
    "                 \"% Voix/Exp 3\", \"% Voix/Ins 3\",\n",
    "                 \"% Voix/Exp 4\", \"% Voix/Ins 4\",\n",
    "                 \"% Voix/Exp 5\", \"% Voix/Ins 5\",\n",
    "                 \"% Voix/Exp 6\", \"% Voix/Ins 6\",\n",
    "                 \"% Voix/Exp 7\", \"% Voix/Ins 7\",\n",
    "                 \"% Voix/Exp 8\", \"% Voix/Ins 8\",\n",
    "                 \"% Voix/Exp 9\", \"% Voix/Ins 9\",\n",
    "                 \"% Voix/Exp 10\", \"% Voix/Ins 10\",\n",
    "                 \"% Voix/Exp 11\", \"% Voix/Ins 11\"])\n",
    "x = tp2.to_numpy(dtype=float)"
   ]
  },
  {
   "cell_type": "code",
   "execution_count": 6,
   "id": "0tJt4QXmFFNM",
   "metadata": {
    "colab": {
     "base_uri": "https://localhost:8080/"
    },
    "id": "0tJt4QXmFFNM",
    "outputId": "5ff01a61-a6dc-4918-8259-f7dd318d4711"
   },
   "outputs": [
    {
     "data": {
      "text/plain": [
       "(18, 24)"
      ]
     },
     "execution_count": 6,
     "metadata": {},
     "output_type": "execute_result"
    }
   ],
   "source": [
    "x.shape"
   ]
  },
  {
   "cell_type": "markdown",
   "id": "OBLys5DoFFNN",
   "metadata": {
    "id": "OBLys5DoFFNN"
   },
   "source": [
    "Nous avons choisi de conserver seulement les colonnes des résultats des candidats, stockées dans x, un tableau numpy."
   ]
  },
  {
   "cell_type": "markdown",
   "id": "x1mOz_wgFFNO",
   "metadata": {
    "id": "x1mOz_wgFFNO"
   },
   "source": [
    "On peut maintenant représenter graphiquement les données :"
   ]
  },
  {
   "cell_type": "code",
   "execution_count": 98,
   "id": "doxwu789FFNP",
   "metadata": {
    "colab": {
     "base_uri": "https://localhost:8080/",
     "height": 868
    },
    "id": "doxwu789FFNP",
    "outputId": "e8fbaee2-ac44-4b95-ece8-cd395cdb85b1"
   },
   "outputs": [
    {
     "data": {
      "image/png": "[encoded data removed]",
      "text/plain": [
       "<Figure size 720x720 with 1 Axes>"
      ]
     },
     "metadata": {
      "needs_background": "light"
     },
     "output_type": "display_data"
    }
   ],
   "source": [
    "plt.figure(figsize=(10,10))\n",
    "for i in range(12):\n",
    "    plt.scatter(x[:,2*i],x[:,2*i+1], label=f\"candidat {i}\")\n",
    "t=np.arange(0,20,0.1)\n",
    "plt.plot(t,t, label=\"y=x\")\n",
    "plt.ylabel(\"% Voix/Ins\")\n",
    "plt.xlabel(\"% Voix/Exp\")\n",
    "plt.legend();"
   ]
  },
  {
   "cell_type": "markdown",
   "id": "SnX4dj5XFFNR",
   "metadata": {
    "id": "SnX4dj5XFFNR"
   },
   "source": [
    "On observe que les données sont cohérentes car le pourcentage de voix par rapport aux votes exprimés est supérieur que celui par rapport aux inscrits.\n",
    "Les candidats qui ont reçu le plus haut pourcentage de voix correspondent, dans notre cas, aux candidats 2, 6 et 4.\n",
    "On observe un cluster de points autour des petits pourcentages : la plupart des 9 autres candidats ont reçu moins de 10% des votes.\n",
    "Finalement, on voit que certains points sont assez éloignés de la droite y=x tracée en bleu. Ces points peuvent fausser la suite de notre analyse et correspondent aux régions avec de forts taux d'abstention."
   ]
  },
  {
   "cell_type": "code",
   "execution_count": 81,
   "id": "e9c4983f",
   "metadata": {},
   "outputs": [],
   "source": [
    "# Code d'affichage de la représentation de l'ellipse trouvé sur le site de matplotlib\n",
    "def affiche_ellipse_cov(moy, cov, ax):\n",
    "    p = cov[0, 1]/np.sqrt(cov[0, 0] * cov[1, 1])\n",
    "    ell_radius_x = np.sqrt(1 + p)\n",
    "    ell_radius_y = np.sqrt(1 - p)\n",
    "    ellipse = Ellipse((0,0), width=ell_radius_x*2, height=ell_radius_y*2, facecolor=\"none\",edgecolor=\"red\")\n",
    "    \n",
    "    scale_x= np.sqrt(cov[0,0])*2\n",
    "    scale_y= np.sqrt(cov[1,1])*2\n",
    "    \n",
    "    transf = transforms.Affine2D().rotate_deg(45).scale(scale_x, scale_y).translate(moy[0], moy[1])\n",
    "    ellipse.set_transform(transf + ax.transData)\n",
    "    ax.add_patch(ellipse)"
   ]
  },
  {
   "cell_type": "markdown",
   "id": "eDMG3_1RFFNS",
   "metadata": {
    "id": "eDMG3_1RFFNS",
    "tags": []
   },
   "source": [
    "### Analyse des clusters"
   ]
  },
  {
   "cell_type": "markdown",
   "id": "hujW2ZB2FFNT",
   "metadata": {
    "id": "hujW2ZB2FFNT"
   },
   "source": [
    "Pour la suite, on reprend les même données en changeant la taille de x :"
   ]
  },
  {
   "cell_type": "code",
   "execution_count": 8,
   "id": "9j9egZXVFFNU",
   "metadata": {
    "id": "9j9egZXVFFNU"
   },
   "outputs": [],
   "source": [
    "y=x.reshape(18,12,2).reshape(18*12,2)"
   ]
  },
  {
   "cell_type": "code",
   "execution_count": 96,
   "id": "_pSSSxFeFFNV",
   "metadata": {
    "colab": {
     "base_uri": "https://localhost:8080/",
     "height": 448
    },
    "id": "_pSSSxFeFFNV",
    "outputId": "70112120-6d0b-4ac2-dbd9-1664000a0d29"
   },
   "outputs": [
    {
     "data": {
      "image/png": "[encoded data removed]",
      "text/plain": [
       "<Figure size 432x288 with 1 Axes>"
      ]
     },
     "metadata": {
      "needs_background": "light"
     },
     "output_type": "display_data"
    }
   ],
   "source": [
    "plt.scatter(y[:,0],y[:,1]);"
   ]
  },
  {
   "cell_type": "markdown",
   "id": "X53_YrmTFFNW",
   "metadata": {
    "id": "X53_YrmTFFNW"
   },
   "source": [
    "Nous appliquons maintenant une analyse en composantes principales au jeu de données, en gardant 2 composantes principales."
   ]
  },
  {
   "cell_type": "code",
   "execution_count": 20,
   "id": "7rfbANgxFFNX",
   "metadata": {
    "colab": {
     "base_uri": "https://localhost:8080/",
     "height": 448
    },
    "id": "7rfbANgxFFNX",
    "outputId": "8809c1ae-6208-45b3-9c9b-66823c4a94fb",
    "scrolled": true
   },
   "outputs": [
    {
     "data": {
      "image/png": "[encoded data removed]",
      "text/plain": [
       "<Figure size 432x288 with 1 Axes>"
      ]
     },
     "metadata": {
      "needs_background": "light"
     },
     "output_type": "display_data"
    }
   ],
   "source": [
    "from sklearn.decomposition import PCA\n",
    "from sklearn.preprocessing import StandardScaler\n",
    "\n",
    "pca=PCA(n_components=2).fit(y.T)\n",
    "plt.scatter(pca.components_[0], pca.components_[1])\n",
    "plt.xlabel(\"Composante 1\");\n",
    "plt.ylabel(\"Composante 2\");\n",
    "plt.title(\"ACP\");"
   ]
  },
  {
   "cell_type": "code",
   "execution_count": 12,
   "id": "N2-XKdbZFFNY",
   "metadata": {
    "colab": {
     "base_uri": "https://localhost:8080/"
    },
    "id": "N2-XKdbZFFNY",
    "outputId": "a05045fb-8e9c-4a80-8efe-a55ca2ddb523",
    "scrolled": true
   },
   "outputs": [
    {
     "data": {
      "text/plain": [
       "array([5.99227978e+01, 1.38206917e-14])"
      ]
     },
     "execution_count": 12,
     "metadata": {},
     "output_type": "execute_result"
    }
   ],
   "source": [
    "pca.singular_values_"
   ]
  },
  {
   "cell_type": "markdown",
   "id": "afed4a12",
   "metadata": {},
   "source": [
    "On retrouve à droite les 5 points qui semblaient correspondre aux régions d'outre-mer, avec beaucoup d'abstention. Ils ont une participation très élevée à la composante 1, et donc une part importante dans la variabilité des données. <br>\n",
    "Ces points vont probablement nous gêner dans la construction d'un modèle de mélange gaussien. \n",
    "Nous allons quand même essayer de construire un modèle avec ces régions, puis nous allons le comparer à un modèle où elles n'apparaissent pas."
   ]
  },
  {
   "cell_type": "markdown",
   "id": "2DT9NQxDFFNZ",
   "metadata": {
    "id": "2DT9NQxDFFNZ"
   },
   "source": [
    "Nous utilisons ensuite un mélange gaussien avec 3 composantes pour essayer de représenter les clusters des données obtenues après la PCA. Nous avons choisi 3 arbitrairement, en observant la répartition des données."
   ]
  },
  {
   "cell_type": "code",
   "execution_count": 117,
   "id": "vrnh1zX6FFNa",
   "metadata": {
    "colab": {
     "base_uri": "https://localhost:8080/",
     "height": 868
    },
    "id": "vrnh1zX6FFNa",
    "outputId": "eb0c616d-74ef-4bc7-c243-c7f356d84bc9"
   },
   "outputs": [
    {
     "data": {
      "image/png": "[encoded data removed]",
      "text/plain": [
       "<Figure size 648x576 with 1 Axes>"
      ]
     },
     "metadata": {
      "needs_background": "light"
     },
     "output_type": "display_data"
    }
   ],
   "source": [
    "from sklearn.mixture import GaussianMixture\n",
    "\n",
    "res=GaussianMixture(n_components=3).fit(y)\n",
    "clust = res.predict(y)\n",
    "\n",
    "fig, ax=plt.subplots(1,1,figsize=(9,8))\n",
    "plt.scatter(y[:,0],y[:,1], c=clust)\n",
    "\n",
    "for k in range(3):\n",
    "    affiche_ellipse_cov(res.means_[k], res.covariances_[k], ax)\n",
    "\n",
    "plt.ylabel(\"% Voix/Ins\");\n",
    "plt.xlabel(\"% Voix/Exp\");\n",
    "plt.title(\"3 clusters\");"
   ]
  },
  {
   "cell_type": "markdown",
   "id": "7B-41WhlFFNb",
   "metadata": {
    "id": "7B-41WhlFFNb"
   },
   "source": [
    "Ici, le mélange gaussien a séparé les données entre un cluster de petits pourcentages, un cluster pour des points de plus hauts pourcentages et proches de la droite `y=x` et un cluster correspondant aux données plus éloignées de `y=x` à cause du faible taux de votants. On utilise maintenant les critères AIC et BIC pour sélectionner le meilleur nombre de composantes du mélange gaussien :"
   ]
  },
  {
   "cell_type": "code",
   "execution_count": 99,
   "id": "UbE7hN4XFFNc",
   "metadata": {
    "colab": {
     "base_uri": "https://localhost:8080/",
     "height": 448
    },
    "id": "UbE7hN4XFFNc",
    "outputId": "694c052b-8435-4f43-da6d-f71fa81729af"
   },
   "outputs": [
    {
     "name": "stderr",
     "output_type": "stream",
     "text": [
      "D:\\Logiciels\\anaconda\\lib\\site-packages\\sklearn\\cluster\\_kmeans.py:1036: UserWarning: KMeans is known to have a memory leak on Windows with MKL, when there are less chunks than available threads. You can avoid it by setting the environment variable OMP_NUM_THREADS=1.\n",
      "  warnings.warn(\n"
     ]
    },
    {
     "data": {
      "image/png": "[encoded data removed]",
      "text/plain": [
       "<Figure size 648x432 with 1 Axes>"
      ]
     },
     "metadata": {
      "needs_background": "light"
     },
     "output_type": "display_data"
    }
   ],
   "source": [
    "AIC, BIC = [], []\n",
    "\n",
    "for i in range(1,16):\n",
    "    res=GaussianMixture(n_components=i).fit(y)\n",
    "    AIC.append(res.aic(y))\n",
    "    BIC.append(res.bic(y))\n",
    "\n",
    "t=range(1,16)\n",
    "plt.figure(figsize=(9,6))\n",
    "plt.plot(t, BIC, label=\"BIC\")\n",
    "plt.xlabel(\"Nombre de composants\")\n",
    "plt.plot(t,AIC, \"--\", label=\"AIC\")\n",
    "plt.title(\"AIC et BIC\");\n",
    "plt.legend();"
   ]
  },
  {
   "cell_type": "code",
   "execution_count": 100,
   "id": "88ork-ohFFNd",
   "metadata": {
    "colab": {
     "base_uri": "https://localhost:8080/"
    },
    "id": "88ork-ohFFNd",
    "outputId": "b4612480-4739-4573-a49e-f877069f647d",
    "scrolled": true
   },
   "outputs": [
    {
     "name": "stdout",
     "output_type": "stream",
     "text": [
      "BIC minimal pour 8 composantes, valeur correspondante du BIC : 1438.8183061264644 -- de l'AIC : 1280.1802209653088\n",
      "AIC minimal pour 15 composantes, valeur correspondante du BIC : 1471.5709056426192 -- de l'AIC : 1171.1711273587284\n",
      "\n",
      "Le facteur BIC est minimal pour 8 composantes du mélange gaussien, on a le résultat suivant :\n"
     ]
    }
   ],
   "source": [
    "m1,m2 = np.argmin(BIC), np.argmin(AIC)\n",
    "print(\"BIC minimal pour\", m1+1, \"composantes, valeur correspondante du BIC :\", BIC[m1], \"-- de l'AIC :\", AIC[m1])\n",
    "print(\"AIC minimal pour\", m2+1, \"composantes, valeur correspondante du BIC :\", BIC[m2], \"-- de l'AIC :\", AIC[m2])\n",
    "\n",
    "print(f\"\\nLe facteur BIC est minimal pour {m1+1} composantes du mélange gaussien, on a le résultat suivant :\")"
   ]
  },
  {
   "cell_type": "code",
   "execution_count": 101,
   "id": "Sw3i7lviFFNf",
   "metadata": {
    "id": "Sw3i7lviFFNf"
   },
   "outputs": [
    {
     "data": {
      "image/png": "[encoded data removed]",
      "text/plain": [
       "<Figure size 648x432 with 1 Axes>"
      ]
     },
     "metadata": {
      "needs_background": "light"
     },
     "output_type": "display_data"
    }
   ],
   "source": [
    "res = GaussianMixture(n_components=m1+1).fit(y)\n",
    "clust = res.predict(y)\n",
    "\n",
    "_, ax= plt.subplots(1,1,figsize=(9,6))\n",
    "plt.scatter(y[:,0], y[:,1], c=clust, cmap=plt.get_cmap('Set1'));\n",
    "\n",
    "for k in range(m1+1):\n",
    "    affiche_ellipse_cov(res.means_[k], res.covariances_[k], ax)\n",
    "\n",
    "plt.title(f\"Représentation des données - mélange à {m1+1} composantes\");\n",
    "plt.ylabel(\"% Voix/Inx\")\n",
    "plt.xlabel(\"% Voix/Exp\");"
   ]
  },
  {
   "cell_type": "code",
   "execution_count": 102,
   "id": "347D8smYFFNh",
   "metadata": {
    "colab": {
     "base_uri": "https://localhost:8080/",
     "height": 448
    },
    "id": "347D8smYFFNh",
    "outputId": "7ab79a28-86bf-4714-98f1-af38ec3e47a6"
   },
   "outputs": [
    {
     "data": {
      "image/png": "[encoded data removed]",
      "text/plain": [
       "<Figure size 432x288 with 1 Axes>"
      ]
     },
     "metadata": {
      "needs_background": "light"
     },
     "output_type": "display_data"
    }
   ],
   "source": [
    "pca=PCA(n_components=2).fit(y.T)\n",
    "plt.set_cmap('Set1')\n",
    "plt.scatter(pca.components_[0], pca.components_[1], c=clust);\n",
    "plt.xlabel(\"Composante 1\");\n",
    "plt.ylabel(\"Composante 2\");"
   ]
  },
  {
   "cell_type": "markdown",
   "id": "0fccd176",
   "metadata": {},
   "source": [
    "On voit qu'effectivement, les groupes qui étaient éloignés sur la représentation des données se retrouvent éloignés sur l'ACP. On va maintenant essayer de voir comment se comporte le mélange gaussien en enlevant ces groupes."
   ]
  },
  {
   "cell_type": "markdown",
   "id": "s3P0u8tmFo2L",
   "metadata": {
    "id": "s3P0u8tmFo2L"
   },
   "source": [
    "## Sans les régions d'outre-mer"
   ]
  },
  {
   "cell_type": "code",
   "execution_count": 62,
   "id": "MWSx_vTyGvH-",
   "metadata": {
    "colab": {
     "base_uri": "https://localhost:8080/",
     "height": 585
    },
    "id": "MWSx_vTyGvH-",
    "outputId": "86f23823-e8f7-4b86-afff-801d3abfee61",
    "scrolled": true
   },
   "outputs": [
    {
     "data": {
      "text/html": [
       "<div>\n",
       "<style scoped>\n",
       "    .dataframe tbody tr th:only-of-type {\n",
       "        vertical-align: middle;\n",
       "    }\n",
       "\n",
       "    .dataframe tbody tr th {\n",
       "        vertical-align: top;\n",
       "    }\n",
       "\n",
       "    .dataframe thead th {\n",
       "        text-align: right;\n",
       "    }\n",
       "</style>\n",
       "<table border=\"1\" class=\"dataframe\">\n",
       "  <thead>\n",
       "    <tr style=\"text-align: right;\">\n",
       "      <th></th>\n",
       "      <th>% Abs/Ins</th>\n",
       "      <th>% Vot/Ins</th>\n",
       "      <th>% Blancs/Ins</th>\n",
       "      <th>% Blancs/Vot</th>\n",
       "      <th>% Nuls/Ins</th>\n",
       "      <th>% Nuls/Vot</th>\n",
       "      <th>% Exp/Ins</th>\n",
       "      <th>% Exp/Vot</th>\n",
       "      <th>% Voix/Ins 0</th>\n",
       "      <th>% Voix/Exp 0</th>\n",
       "      <th>...</th>\n",
       "      <th>% Voix/Ins 7</th>\n",
       "      <th>% Voix/Exp 7</th>\n",
       "      <th>% Voix/Ins 8</th>\n",
       "      <th>% Voix/Exp 8</th>\n",
       "      <th>% Voix/Ins 9</th>\n",
       "      <th>% Voix/Exp 9</th>\n",
       "      <th>% Voix/Ins 10</th>\n",
       "      <th>% Voix/Exp 10</th>\n",
       "      <th>% Voix/Ins 11</th>\n",
       "      <th>% Voix/Exp 11</th>\n",
       "    </tr>\n",
       "  </thead>\n",
       "  <tbody>\n",
       "    <tr>\n",
       "      <th>0</th>\n",
       "      <td>26.10</td>\n",
       "      <td>73.90</td>\n",
       "      <td>1.09</td>\n",
       "      <td>1.48</td>\n",
       "      <td>0.48</td>\n",
       "      <td>0.65</td>\n",
       "      <td>72.32</td>\n",
       "      <td>97.87</td>\n",
       "      <td>0.48</td>\n",
       "      <td>0.67</td>\n",
       "      <td>...</td>\n",
       "      <td>1.04</td>\n",
       "      <td>1.43</td>\n",
       "      <td>2.90</td>\n",
       "      <td>4.01</td>\n",
       "      <td>3.13</td>\n",
       "      <td>4.33</td>\n",
       "      <td>0.58</td>\n",
       "      <td>0.80</td>\n",
       "      <td>1.94</td>\n",
       "      <td>2.68</td>\n",
       "    </tr>\n",
       "    <tr>\n",
       "      <th>1</th>\n",
       "      <td>21.57</td>\n",
       "      <td>78.43</td>\n",
       "      <td>1.20</td>\n",
       "      <td>1.53</td>\n",
       "      <td>0.61</td>\n",
       "      <td>0.77</td>\n",
       "      <td>76.63</td>\n",
       "      <td>97.70</td>\n",
       "      <td>0.41</td>\n",
       "      <td>0.54</td>\n",
       "      <td>...</td>\n",
       "      <td>1.73</td>\n",
       "      <td>2.26</td>\n",
       "      <td>3.40</td>\n",
       "      <td>4.44</td>\n",
       "      <td>3.52</td>\n",
       "      <td>4.60</td>\n",
       "      <td>0.73</td>\n",
       "      <td>0.95</td>\n",
       "      <td>1.52</td>\n",
       "      <td>1.98</td>\n",
       "    </tr>\n",
       "    <tr>\n",
       "      <th>2</th>\n",
       "      <td>22.10</td>\n",
       "      <td>77.90</td>\n",
       "      <td>1.26</td>\n",
       "      <td>1.62</td>\n",
       "      <td>0.46</td>\n",
       "      <td>0.59</td>\n",
       "      <td>76.18</td>\n",
       "      <td>97.79</td>\n",
       "      <td>0.42</td>\n",
       "      <td>0.55</td>\n",
       "      <td>...</td>\n",
       "      <td>1.40</td>\n",
       "      <td>1.83</td>\n",
       "      <td>4.04</td>\n",
       "      <td>5.31</td>\n",
       "      <td>3.92</td>\n",
       "      <td>5.15</td>\n",
       "      <td>0.55</td>\n",
       "      <td>0.72</td>\n",
       "      <td>1.77</td>\n",
       "      <td>2.33</td>\n",
       "    </tr>\n",
       "    <tr>\n",
       "      <th>3</th>\n",
       "      <td>22.92</td>\n",
       "      <td>77.08</td>\n",
       "      <td>1.32</td>\n",
       "      <td>1.72</td>\n",
       "      <td>0.58</td>\n",
       "      <td>0.76</td>\n",
       "      <td>75.17</td>\n",
       "      <td>97.52</td>\n",
       "      <td>0.53</td>\n",
       "      <td>0.71</td>\n",
       "      <td>...</td>\n",
       "      <td>1.33</td>\n",
       "      <td>1.77</td>\n",
       "      <td>3.02</td>\n",
       "      <td>4.02</td>\n",
       "      <td>3.85</td>\n",
       "      <td>5.12</td>\n",
       "      <td>0.64</td>\n",
       "      <td>0.85</td>\n",
       "      <td>1.94</td>\n",
       "      <td>2.58</td>\n",
       "    </tr>\n",
       "    <tr>\n",
       "      <th>4</th>\n",
       "      <td>21.21</td>\n",
       "      <td>78.79</td>\n",
       "      <td>1.24</td>\n",
       "      <td>1.58</td>\n",
       "      <td>0.52</td>\n",
       "      <td>0.66</td>\n",
       "      <td>77.03</td>\n",
       "      <td>97.76</td>\n",
       "      <td>0.51</td>\n",
       "      <td>0.66</td>\n",
       "      <td>...</td>\n",
       "      <td>1.70</td>\n",
       "      <td>2.21</td>\n",
       "      <td>4.77</td>\n",
       "      <td>6.19</td>\n",
       "      <td>3.62</td>\n",
       "      <td>4.70</td>\n",
       "      <td>0.78</td>\n",
       "      <td>1.01</td>\n",
       "      <td>1.37</td>\n",
       "      <td>1.78</td>\n",
       "    </tr>\n",
       "    <tr>\n",
       "      <th>5</th>\n",
       "      <td>25.01</td>\n",
       "      <td>74.99</td>\n",
       "      <td>1.26</td>\n",
       "      <td>1.69</td>\n",
       "      <td>0.51</td>\n",
       "      <td>0.68</td>\n",
       "      <td>73.22</td>\n",
       "      <td>97.64</td>\n",
       "      <td>0.50</td>\n",
       "      <td>0.69</td>\n",
       "      <td>...</td>\n",
       "      <td>1.26</td>\n",
       "      <td>1.72</td>\n",
       "      <td>2.96</td>\n",
       "      <td>4.04</td>\n",
       "      <td>3.90</td>\n",
       "      <td>5.33</td>\n",
       "      <td>0.61</td>\n",
       "      <td>0.83</td>\n",
       "      <td>1.73</td>\n",
       "      <td>2.36</td>\n",
       "    </tr>\n",
       "    <tr>\n",
       "      <th>6</th>\n",
       "      <td>23.96</td>\n",
       "      <td>76.04</td>\n",
       "      <td>1.04</td>\n",
       "      <td>1.37</td>\n",
       "      <td>0.38</td>\n",
       "      <td>0.50</td>\n",
       "      <td>74.62</td>\n",
       "      <td>98.13</td>\n",
       "      <td>0.30</td>\n",
       "      <td>0.40</td>\n",
       "      <td>...</td>\n",
       "      <td>1.07</td>\n",
       "      <td>1.43</td>\n",
       "      <td>4.03</td>\n",
       "      <td>5.40</td>\n",
       "      <td>4.62</td>\n",
       "      <td>6.19</td>\n",
       "      <td>0.45</td>\n",
       "      <td>0.60</td>\n",
       "      <td>1.19</td>\n",
       "      <td>1.59</td>\n",
       "    </tr>\n",
       "    <tr>\n",
       "      <th>7</th>\n",
       "      <td>21.75</td>\n",
       "      <td>78.25</td>\n",
       "      <td>1.11</td>\n",
       "      <td>1.42</td>\n",
       "      <td>0.58</td>\n",
       "      <td>0.74</td>\n",
       "      <td>76.57</td>\n",
       "      <td>97.85</td>\n",
       "      <td>0.34</td>\n",
       "      <td>0.45</td>\n",
       "      <td>...</td>\n",
       "      <td>1.78</td>\n",
       "      <td>2.33</td>\n",
       "      <td>3.22</td>\n",
       "      <td>4.20</td>\n",
       "      <td>2.99</td>\n",
       "      <td>3.90</td>\n",
       "      <td>0.55</td>\n",
       "      <td>0.72</td>\n",
       "      <td>1.46</td>\n",
       "      <td>1.91</td>\n",
       "    </tr>\n",
       "    <tr>\n",
       "      <th>8</th>\n",
       "      <td>26.94</td>\n",
       "      <td>73.06</td>\n",
       "      <td>1.01</td>\n",
       "      <td>1.38</td>\n",
       "      <td>0.57</td>\n",
       "      <td>0.78</td>\n",
       "      <td>71.48</td>\n",
       "      <td>97.84</td>\n",
       "      <td>0.49</td>\n",
       "      <td>0.69</td>\n",
       "      <td>...</td>\n",
       "      <td>0.96</td>\n",
       "      <td>1.34</td>\n",
       "      <td>2.24</td>\n",
       "      <td>3.13</td>\n",
       "      <td>2.53</td>\n",
       "      <td>3.53</td>\n",
       "      <td>0.50</td>\n",
       "      <td>0.69</td>\n",
       "      <td>1.30</td>\n",
       "      <td>1.82</td>\n",
       "    </tr>\n",
       "    <tr>\n",
       "      <th>9</th>\n",
       "      <td>24.48</td>\n",
       "      <td>75.52</td>\n",
       "      <td>1.20</td>\n",
       "      <td>1.59</td>\n",
       "      <td>0.44</td>\n",
       "      <td>0.58</td>\n",
       "      <td>73.89</td>\n",
       "      <td>97.83</td>\n",
       "      <td>0.53</td>\n",
       "      <td>0.72</td>\n",
       "      <td>...</td>\n",
       "      <td>1.25</td>\n",
       "      <td>1.70</td>\n",
       "      <td>3.04</td>\n",
       "      <td>4.11</td>\n",
       "      <td>3.31</td>\n",
       "      <td>4.47</td>\n",
       "      <td>0.66</td>\n",
       "      <td>0.90</td>\n",
       "      <td>1.60</td>\n",
       "      <td>2.16</td>\n",
       "    </tr>\n",
       "    <tr>\n",
       "      <th>10</th>\n",
       "      <td>23.02</td>\n",
       "      <td>76.98</td>\n",
       "      <td>1.37</td>\n",
       "      <td>1.79</td>\n",
       "      <td>0.51</td>\n",
       "      <td>0.67</td>\n",
       "      <td>75.10</td>\n",
       "      <td>97.55</td>\n",
       "      <td>0.49</td>\n",
       "      <td>0.65</td>\n",
       "      <td>...</td>\n",
       "      <td>1.53</td>\n",
       "      <td>2.03</td>\n",
       "      <td>4.52</td>\n",
       "      <td>6.01</td>\n",
       "      <td>3.77</td>\n",
       "      <td>5.02</td>\n",
       "      <td>0.65</td>\n",
       "      <td>0.87</td>\n",
       "      <td>1.56</td>\n",
       "      <td>2.08</td>\n",
       "    </tr>\n",
       "    <tr>\n",
       "      <th>11</th>\n",
       "      <td>26.19</td>\n",
       "      <td>73.81</td>\n",
       "      <td>0.98</td>\n",
       "      <td>1.33</td>\n",
       "      <td>0.42</td>\n",
       "      <td>0.57</td>\n",
       "      <td>72.41</td>\n",
       "      <td>98.10</td>\n",
       "      <td>0.26</td>\n",
       "      <td>0.36</td>\n",
       "      <td>...</td>\n",
       "      <td>0.81</td>\n",
       "      <td>1.11</td>\n",
       "      <td>2.94</td>\n",
       "      <td>4.06</td>\n",
       "      <td>3.17</td>\n",
       "      <td>4.38</td>\n",
       "      <td>0.44</td>\n",
       "      <td>0.61</td>\n",
       "      <td>1.64</td>\n",
       "      <td>2.27</td>\n",
       "    </tr>\n",
       "    <tr>\n",
       "      <th>12</th>\n",
       "      <td>37.29</td>\n",
       "      <td>62.71</td>\n",
       "      <td>1.07</td>\n",
       "      <td>1.70</td>\n",
       "      <td>1.00</td>\n",
       "      <td>1.60</td>\n",
       "      <td>60.64</td>\n",
       "      <td>96.70</td>\n",
       "      <td>0.19</td>\n",
       "      <td>0.31</td>\n",
       "      <td>...</td>\n",
       "      <td>0.65</td>\n",
       "      <td>1.07</td>\n",
       "      <td>1.97</td>\n",
       "      <td>3.25</td>\n",
       "      <td>3.84</td>\n",
       "      <td>6.33</td>\n",
       "      <td>0.56</td>\n",
       "      <td>0.93</td>\n",
       "      <td>1.07</td>\n",
       "      <td>1.76</td>\n",
       "    </tr>\n",
       "  </tbody>\n",
       "</table>\n",
       "<p>13 rows × 32 columns</p>\n",
       "</div>"
      ],
      "text/plain": [
       "   % Abs/Ins % Vot/Ins % Blancs/Ins % Blancs/Vot % Nuls/Ins % Nuls/Vot  \\\n",
       "0      26.10     73.90         1.09         1.48       0.48       0.65   \n",
       "1      21.57     78.43         1.20         1.53       0.61       0.77   \n",
       "2      22.10     77.90         1.26         1.62       0.46       0.59   \n",
       "3      22.92     77.08         1.32         1.72       0.58       0.76   \n",
       "4      21.21     78.79         1.24         1.58       0.52       0.66   \n",
       "5      25.01     74.99         1.26         1.69       0.51       0.68   \n",
       "6      23.96     76.04         1.04         1.37       0.38       0.50   \n",
       "7      21.75     78.25         1.11         1.42       0.58       0.74   \n",
       "8      26.94     73.06         1.01         1.38       0.57       0.78   \n",
       "9      24.48     75.52         1.20         1.59       0.44       0.58   \n",
       "10     23.02     76.98         1.37         1.79       0.51       0.67   \n",
       "11     26.19     73.81         0.98         1.33       0.42       0.57   \n",
       "12     37.29     62.71         1.07         1.70       1.00       1.60   \n",
       "\n",
       "   % Exp/Ins % Exp/Vot % Voix/Ins 0 % Voix/Exp 0  ... % Voix/Ins 7  \\\n",
       "0      72.32     97.87         0.48         0.67  ...         1.04   \n",
       "1      76.63     97.70         0.41         0.54  ...         1.73   \n",
       "2      76.18     97.79         0.42         0.55  ...         1.40   \n",
       "3      75.17     97.52         0.53         0.71  ...         1.33   \n",
       "4      77.03     97.76         0.51         0.66  ...         1.70   \n",
       "5      73.22     97.64         0.50         0.69  ...         1.26   \n",
       "6      74.62     98.13         0.30         0.40  ...         1.07   \n",
       "7      76.57     97.85         0.34         0.45  ...         1.78   \n",
       "8      71.48     97.84         0.49         0.69  ...         0.96   \n",
       "9      73.89     97.83         0.53         0.72  ...         1.25   \n",
       "10     75.10     97.55         0.49         0.65  ...         1.53   \n",
       "11     72.41     98.10         0.26         0.36  ...         0.81   \n",
       "12     60.64     96.70         0.19         0.31  ...         0.65   \n",
       "\n",
       "   % Voix/Exp 7 % Voix/Ins 8 % Voix/Exp 8 % Voix/Ins 9 % Voix/Exp 9  \\\n",
       "0          1.43         2.90         4.01         3.13         4.33   \n",
       "1          2.26         3.40         4.44         3.52         4.60   \n",
       "2          1.83         4.04         5.31         3.92         5.15   \n",
       "3          1.77         3.02         4.02         3.85         5.12   \n",
       "4          2.21         4.77         6.19         3.62         4.70   \n",
       "5          1.72         2.96         4.04         3.90         5.33   \n",
       "6          1.43         4.03         5.40         4.62         6.19   \n",
       "7          2.33         3.22         4.20         2.99         3.90   \n",
       "8          1.34         2.24         3.13         2.53         3.53   \n",
       "9          1.70         3.04         4.11         3.31         4.47   \n",
       "10         2.03         4.52         6.01         3.77         5.02   \n",
       "11         1.11         2.94         4.06         3.17         4.38   \n",
       "12         1.07         1.97         3.25         3.84         6.33   \n",
       "\n",
       "   % Voix/Ins 10 % Voix/Exp 10 % Voix/Ins 11 % Voix/Exp 11  \n",
       "0           0.58          0.80          1.94          2.68  \n",
       "1           0.73          0.95          1.52          1.98  \n",
       "2           0.55          0.72          1.77          2.33  \n",
       "3           0.64          0.85          1.94          2.58  \n",
       "4           0.78          1.01          1.37          1.78  \n",
       "5           0.61          0.83          1.73          2.36  \n",
       "6           0.45          0.60          1.19          1.59  \n",
       "7           0.55          0.72          1.46          1.91  \n",
       "8           0.50          0.69          1.30          1.82  \n",
       "9           0.66          0.90          1.60          2.16  \n",
       "10          0.65          0.87          1.56          2.08  \n",
       "11          0.44          0.61          1.64          2.27  \n",
       "12          0.56          0.93          1.07          1.76  \n",
       "\n",
       "[13 rows x 32 columns]"
      ]
     },
     "execution_count": 62,
     "metadata": {},
     "output_type": "execute_result"
    }
   ],
   "source": [
    "# On retire les lignes correspondant aux régions d'outre-mer\n",
    "data2_sro=data2.drop([13, 14, 15, 16, 17], axis=0)\n",
    "data2_sro"
   ]
  },
  {
   "cell_type": "code",
   "execution_count": 103,
   "id": "ME1dXQL8H8kn",
   "metadata": {
    "id": "ME1dXQL8H8kn"
   },
   "outputs": [],
   "source": [
    "tp2_sro = data2_sro.get([\"% Voix/Exp 0\", \"% Voix/Ins 0\",\n",
    "                \"% Voix/Exp 1\", \"% Voix/Ins 1\",\n",
    "                \"% Voix/Exp 2\", \"% Voix/Ins 2\",\n",
    "                 \"% Voix/Exp 3\", \"% Voix/Ins 3\",\n",
    "                 \"% Voix/Exp 4\", \"% Voix/Ins 4\",\n",
    "                 \"% Voix/Exp 5\", \"% Voix/Ins 5\",\n",
    "                 \"% Voix/Exp 6\", \"% Voix/Ins 6\",\n",
    "                 \"% Voix/Exp 7\", \"% Voix/Ins 7\",\n",
    "                 \"% Voix/Exp 8\", \"% Voix/Ins 8\",\n",
    "                 \"% Voix/Exp 9\", \"% Voix/Ins 9\",\n",
    "                 \"% Voix/Exp 10\", \"% Voix/Ins 10\",\n",
    "                 \"% Voix/Exp 11\", \"% Voix/Ins 11\"])\n",
    "x_sro = tp2_sro.to_numpy(dtype=float)"
   ]
  },
  {
   "cell_type": "code",
   "execution_count": 118,
   "id": "DLHqHzwDIAtH",
   "metadata": {
    "colab": {
     "base_uri": "https://localhost:8080/",
     "height": 873
    },
    "id": "DLHqHzwDIAtH",
    "outputId": "ab3a3a23-ec42-4747-d603-2ab2e2712a5c"
   },
   "outputs": [
    {
     "data": {
      "image/png": "[encoded data removed]",
      "text/plain": [
       "<Figure size 720x720 with 1 Axes>"
      ]
     },
     "metadata": {
      "needs_background": "light"
     },
     "output_type": "display_data"
    }
   ],
   "source": [
    "plt.figure(figsize=(10,10))\n",
    "for i in range(12):\n",
    "    plt.scatter(x_sro[:,2*i],x_sro[:,2*i+1], label=f\"c{i}\")\n",
    "t=np.arange(0,20,0.1)\n",
    "plt.plot(t,t)\n",
    "plt.ylabel(\"% Voix/Ins\")\n",
    "plt.xlabel(\"% Voix/Exp\")\n",
    "plt.legend();"
   ]
  },
  {
   "cell_type": "markdown",
   "id": "7dfc0fa9",
   "metadata": {},
   "source": [
    "On observe déjà que les données sont plus alignées, sans les régions d'outre-mer."
   ]
  },
  {
   "cell_type": "code",
   "execution_count": 105,
   "id": "ggsHFMtwIfFv",
   "metadata": {
    "id": "ggsHFMtwIfFv"
   },
   "outputs": [],
   "source": [
    "y_sro=x_sro.reshape(13,12,2).reshape(13*12,2)"
   ]
  },
  {
   "cell_type": "code",
   "execution_count": 106,
   "id": "nq0SC4s8In1N",
   "metadata": {
    "colab": {
     "base_uri": "https://localhost:8080/",
     "height": 448
    },
    "id": "nq0SC4s8In1N",
    "outputId": "2a371dc2-3a99-423c-e9e4-913f43816217",
    "scrolled": true
   },
   "outputs": [
    {
     "data": {
      "image/png": "[encoded data removed]",
      "text/plain": [
       "<Figure size 432x288 with 1 Axes>"
      ]
     },
     "metadata": {
      "needs_background": "light"
     },
     "output_type": "display_data"
    }
   ],
   "source": [
    "y_scaled=StandardScaler().fit_transform(y_sro)\n",
    "pca=PCA(n_components=2).fit(y_sro.T)\n",
    "plt.scatter(pca.components_[0], pca.components_[1])\n",
    "plt.title(\"ACP - sans régions d'outre-mer\")\n",
    "plt.xlabel(f\"Composante 1 -- {pca.explained_variance_ratio_[0]*100:.3f}%\");\n",
    "plt.ylabel(f\"Composante 2 -- {pca.explained_variance_ratio_[1]*100:.3f}%\");"
   ]
  },
  {
   "cell_type": "markdown",
   "id": "38343c36",
   "metadata": {},
   "source": [
    "Ici, on n'a plus de données parasites qui affectent trop la variabilité.\n",
    "\n",
    "Les pourcentages représentent à quel point les directions caractérisent la variance des données. On voit que la première direction principale explique la totalité de la variance. C'est attendu, puisque les données sont quasiment alignées sur le graphique un peu plus haut."
   ]
  },
  {
   "cell_type": "markdown",
   "id": "e402ac86",
   "metadata": {},
   "source": [
    "On applique maintenant un modèle de mélange gaussien, à trois composantes."
   ]
  },
  {
   "cell_type": "code",
   "execution_count": 120,
   "id": "1NQBV21-Isuy",
   "metadata": {
    "colab": {
     "base_uri": "https://localhost:8080/",
     "height": 868
    },
    "id": "1NQBV21-Isuy",
    "outputId": "7388c065-b7f2-462f-bc49-e95d128fc545"
   },
   "outputs": [
    {
     "data": {
      "image/png": "[encoded data removed]",
      "text/plain": [
       "<Figure size 648x432 with 1 Axes>"
      ]
     },
     "metadata": {
      "needs_background": "light"
     },
     "output_type": "display_data"
    }
   ],
   "source": [
    "res=GaussianMixture(n_components=3).fit(y_sro)\n",
    "clust = res.predict(y_sro)\n",
    "\n",
    "_, ax=plt.subplots(1,1,figsize=(9,6))\n",
    "plt.scatter(y_sro[:,0],y_sro[:,1], c=clust)\n",
    "\n",
    "for k in range(3):\n",
    "    affiche_ellipse_cov(res.means_[k], res.covariances_[k], ax)\n",
    "\n",
    "plt.ylabel(\"% Voix/Ins\")\n",
    "plt.xlabel(\"% Voix/Exp\");"
   ]
  },
  {
   "cell_type": "markdown",
   "id": "4b7216a3",
   "metadata": {},
   "source": [
    "On a peu ou prou le même découpage que précédemment."
   ]
  },
  {
   "cell_type": "code",
   "execution_count": 132,
   "id": "p3uVupdFIzvn",
   "metadata": {
    "colab": {
     "base_uri": "https://localhost:8080/",
     "height": 448
    },
    "id": "p3uVupdFIzvn",
    "outputId": "8538cb51-59b9-4532-d61c-9cfea07195d0"
   },
   "outputs": [
    {
     "name": "stderr",
     "output_type": "stream",
     "text": [
      "D:\\Logiciels\\anaconda\\lib\\site-packages\\sklearn\\cluster\\_kmeans.py:1036: UserWarning: KMeans is known to have a memory leak on Windows with MKL, when there are less chunks than available threads. You can avoid it by setting the environment variable OMP_NUM_THREADS=1.\n",
      "  warnings.warn(\n"
     ]
    },
    {
     "data": {
      "image/png": "[encoded data removed]",
      "text/plain": [
       "<Figure size 648x432 with 1 Axes>"
      ]
     },
     "metadata": {
      "needs_background": "light"
     },
     "output_type": "display_data"
    }
   ],
   "source": [
    "AIC_sro, BIC_sro = [], []\n",
    "\n",
    "for i in range(1,16):\n",
    "    res=GaussianMixture(n_components=i).fit(y)\n",
    "    AIC_sro.append(res.aic(y))\n",
    "    BIC_sro.append(res.bic(y))\n",
    "\n",
    "t=range(1,16)\n",
    "plt.figure(figsize=(9,6))\n",
    "plt.plot(t, BIC_sro, label=\"BIC\")\n",
    "plt.xlabel(\"Nombre de composants\")\n",
    "plt.plot(t, AIC_sro, \"--\", label=\"AIC\")\n",
    "plt.title(\"AIC et BIC, sans régions d'outre-mer\");\n",
    "plt.legend();"
   ]
  },
  {
   "cell_type": "code",
   "execution_count": 133,
   "id": "da1e364c",
   "metadata": {
    "colab": {
     "base_uri": "https://localhost:8080/"
    },
    "id": "88ork-ohFFNd",
    "outputId": "b4612480-4739-4573-a49e-f877069f647d",
    "scrolled": true
   },
   "outputs": [
    {
     "name": "stdout",
     "output_type": "stream",
     "text": [
      "BIC minimal pour 13 composantes, valeur correspondante du BIC : 1527.4390425694182 -- de l'AIC : 1148.8032804059908\n",
      "AIC minimal pour 13 composantes, valeur correspondante du BIC : 1478.9142145824155 -- de l'AIC : 1148.8032804059908\n",
      "\n",
      "Le facteur BIC est minimal pour 13 composantes du mélange gaussien, on a le résultat suivant :\n"
     ]
    }
   ],
   "source": [
    "m1_sro,m2_sro = np.argmin(BIC_sro), np.argmin(AIC_sro)\n",
    "print(\"BIC minimal pour\", m1_sro+1, \"composantes, valeur correspondante du BIC :\", BIC_sro[m1], \"-- de l'AIC :\", AIC_sro[m1_sro])\n",
    "print(\"AIC minimal pour\", m2_sro+1, \"composantes, valeur correspondante du BIC :\", BIC_sro[m2], \"-- de l'AIC :\", AIC_sro[m2_sro])\n",
    "\n",
    "print(f\"\\nLe facteur BIC est minimal pour {m1_sro+1} composantes du mélange gaussien, on a le résultat suivant :\")"
   ]
  },
  {
   "cell_type": "code",
   "execution_count": 134,
   "id": "-LxFJE3dKW5I",
   "metadata": {
    "colab": {
     "base_uri": "https://localhost:8080/",
     "height": 848
    },
    "id": "-LxFJE3dKW5I",
    "outputId": "82c373e0-0127-48bf-8f92-20f5dc1fa9db"
   },
   "outputs": [
    {
     "data": {
      "image/png": "[encoded data removed]",
      "text/plain": [
       "<Figure size 648x576 with 1 Axes>"
      ]
     },
     "metadata": {
      "needs_background": "light"
     },
     "output_type": "display_data"
    }
   ],
   "source": [
    "res=GaussianMixture(n_components=m1_sro+1).fit(y_sro)\n",
    "clust = res.predict(y_sro)\n",
    "\n",
    "_, ax = plt.subplots(1,1,figsize=(9,8))\n",
    "plt.scatter(y_sro[:,0],y_sro[:,1], c=clust);\n",
    "\n",
    "for k in range(m1_sro+1):\n",
    "    affiche_ellipse_cov(res.means_[k], res.covariances_[k], ax)\n",
    "    \n",
    "plt.title(f\"Mélange à {m1_sro+1} composantes\")\n",
    "plt.xlabel(\"% Voix/Exp\")\n",
    "plt.ylabel(\"% Voix/Ins\");"
   ]
  },
  {
   "cell_type": "code",
   "execution_count": 129,
   "id": "1RWcc7JsIzsm",
   "metadata": {
    "colab": {
     "base_uri": "https://localhost:8080/",
     "height": 448
    },
    "id": "1RWcc7JsIzsm",
    "outputId": "c7beb13e-babd-43dc-bb85-8485575fd310",
    "scrolled": true
   },
   "outputs": [
    {
     "data": {
      "image/png": "[encoded data removed]",
      "text/plain": [
       "<Figure size 432x288 with 1 Axes>"
      ]
     },
     "metadata": {
      "needs_background": "light"
     },
     "output_type": "display_data"
    }
   ],
   "source": [
    "pca_cand=PCA(n_components=2).fit_transform(y_sro.T)\n",
    "plt.scatter(pca.components_[0], pca.components_[1], c=clust);\n",
    "plt.xlabel(\"Composante 1\");\n",
    "plt.ylabel(\"Composante 2\");"
   ]
  },
  {
   "cell_type": "markdown",
   "id": "cfbf88b3",
   "metadata": {},
   "source": [
    "On voit que certaines composantes du mélange se chevauchent, à cause du nombre important de clusters. On remarque qu'on a eu besoin de plus de clusters pour caractériser le mélange par rapport aux données avec toutes les régions, donc le modèle est maintenant plus complexe à décrire."
   ]
  },
  {
   "cell_type": "markdown",
   "id": "92a1a9e7-c504-440f-8a3c-18c3b2a07f0c",
   "metadata": {},
   "source": [
    "Finalement, il serait difficile d'effectuer des prédictions sur ces données présidentielles avec un mélange gaussien puisqu'on a besoin de 8 composantes avec toutes les régions, ou 13 composantes en enlevant certaines régions, pour caractériser les clusters."
   ]
  }
 ],
 "metadata": {
  "colab": {
   "provenance": []
  },
  "kernelspec": {
   "display_name": "Python 3 (ipykernel)",
   "language": "python",
   "name": "python3"
  },
  "language_info": {
   "codemirror_mode": {
    "name": "ipython",
    "version": 3
   },
   "file_extension": ".py",
   "mimetype": "text/x-python",
   "name": "python",
   "nbconvert_exporter": "python",
   "pygments_lexer": "ipython3",
   "version": "3.9.13"
  }
 },
 "nbformat": 4,
 "nbformat_minor": 5
}
